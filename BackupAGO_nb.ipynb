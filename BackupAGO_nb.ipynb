{
 "cells": [
  {
   "cell_type": "markdown",
   "id": "6b7a2a41-ae3d-444c-8719-20ab33e449b5",
   "metadata": {},
   "source": [
    "# Title\n",
    "\n",
    "\n",
    "## Purpose"
   ]
  },
  {
   "cell_type": "code",
   "execution_count": null,
   "id": "dbe034da-b464-41c9-bcfb-c2e0f4cf830a",
   "metadata": {},
   "outputs": [],
   "source": []
  },
  {
   "cell_type": "markdown",
   "id": "0b9b459a-2806-466d-8967-80bd7eb86276",
   "metadata": {},
   "source": [
    "# Import libraries"
   ]
  },
  {
   "cell_type": "code",
   "execution_count": null,
   "id": "b61b6640-bf0f-4fc8-998c-78901380b390",
   "metadata": {},
   "outputs": [],
   "source": []
  },
  {
   "cell_type": "markdown",
   "id": "c416db95-2248-4e55-853c-0c129ab6bc67",
   "metadata": {},
   "source": [
    "# Setup"
   ]
  }
 ],
 "metadata": {
  "kernelspec": {
   "display_name": "Python 3",
   "language": "python",
   "name": "python3"
  },
  "language_info": {
   "codemirror_mode": {
    "name": "ipython",
    "version": 3
   },
   "file_extension": ".py",
   "mimetype": "text/x-python",
   "name": "python",
   "nbconvert_exporter": "python",
   "pygments_lexer": "ipython3",
   "version": "3.7.10"
  }
 },
 "nbformat": 4,
 "nbformat_minor": 5
}
