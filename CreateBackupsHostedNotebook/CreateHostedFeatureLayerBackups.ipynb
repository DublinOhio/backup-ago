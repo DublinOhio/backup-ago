{
 "cells": [
  {
   "cell_type": "markdown",
   "metadata": {},
   "source": [
    "# Backup HFLs to AGO\n",
    "\n",
    "Create static snapshots of HFLs for archiving and backup purposes in AGO\n",
    "\n",
    "### References:\n",
    "\n",
    "https://developers.arcgis.com/rest/users-groups-and-items/export-item.htm\n",
    "\n",
    "[How To: Back up hosted content by looping through and downloading hosted feature services in FGDB format](https://support.esri.com/en/technical-article/000022524)\n",
    "\n",
    "[How To: Back up content in ArcGIS Online](https://support.esri.com/en/technical-article/000011795)\n",
    "\n",
    "[How To: Download feature service items from ArcGIS Online using ArcGIS API for Python](https://support.esri.com/en/technical-article/000018909)\n",
    "\n",
    "Searching content https://developers.arcgis.com/python/guide/accessing-and-creating-content/"
   ]
  },
  {
   "cell_type": "markdown",
   "metadata": {},
   "source": [
    "### Imports"
   ]
  },
  {
   "cell_type": "code",
   "execution_count": 1,
   "metadata": {},
   "outputs": [],
   "source": [
    "import os\n",
    "import uuid\n",
    "import json\n",
    "import shutil\n",
    "import tempfile\n",
    "from time import strftime\n",
    "import time\n",
    "# need to be able to round up\n",
    "from math import ceil \n",
    "\n",
    "import numpy as np\n",
    "\n",
    "from tabulate import tabulate\n",
    "\n",
    "import pandas as pd\n",
    "\n",
    "from arcgis.gis import GIS\n",
    "from arcgis import __version__"
   ]
  },
  {
   "cell_type": "markdown",
   "metadata": {},
   "source": [
    "# Your custom variables"
   ]
  },
  {
   "cell_type": "code",
   "execution_count": 2,
   "metadata": {},
   "outputs": [],
   "source": [
    "# id for the folder where backups are stored.\n",
    "backups_folder = \"f74cc94ec1dc4ac8b8a16742c799b4fb\"\n",
    "backup_tag = \"HFLBackupIncludeYes\"\n",
    "\n",
    "# group ID used to email results\n",
    "GIS_staff_group_id = \"81d7f67d885c4e629b4c5d49309b9e25\""
   ]
  },
  {
   "cell_type": "markdown",
   "metadata": {},
   "source": [
    "#### initialize GIS"
   ]
  },
  {
   "cell_type": "code",
   "execution_count": 3,
   "metadata": {
    "scrolled": false
   },
   "outputs": [
    {
     "name": "stderr",
     "output_type": "stream",
     "text": [
      "/opt/conda/lib/python3.9/site-packages/arcgis/gis/__init__.py:703: UserWarning: You are logged on as DublinOhio with an administrator role, proceed with caution.\n",
      "  warnings.warn(\n"
     ]
    }
   ],
   "source": [
    "gis = GIS(\"home\")"
   ]
  },
  {
   "cell_type": "markdown",
   "metadata": {},
   "source": [
    "# Setup email notifications (by group membership)\n",
    "\n"
   ]
  },
  {
   "cell_type": "markdown",
   "metadata": {},
   "source": [
    "## Send notification\n"
   ]
  },
  {
   "cell_type": "code",
   "execution_count": 4,
   "metadata": {},
   "outputs": [],
   "source": [
    "timestamp = strftime(\"%m-%d-%Y%  %H%:M\")\n",
    "\n",
    "def email_GIS_staff(GISStaffGroupID, subject_, message_):\n",
    "\n",
    "    # define group\n",
    "    GIS_staff_group = gis.groups.search(GISStaffGroupID)[0]\n",
    "    \n",
    "    # get members \n",
    "    users_ = GIS_staff_group.get_members()[\"users\"]\n",
    "    print(\"Notifying users:\\n\\t\", users_)\n",
    "    \n",
    "    # send email\n",
    "    did_it_work = GIS_staff_group.notify(users_, subject = subject_, message = message_)\n",
    "    \n",
    "    # call the function\n",
    "    # email_GIS_staff(GIS_Staff_Group_ID, \n",
    "    #                subject_= email_subject, \n",
    "    #                message_ = \"Time started: \"+ timestamp + email_message)    \n",
    "    \n",
    "    print(\"\\n\\tEmail sent?:\", did_it_work)"
   ]
  },
  {
   "cell_type": "markdown",
   "metadata": {},
   "source": [
    "### References\n",
    "https://community.esri.com/t5/arcgis-notebooks-documents/send-e-mail-notifications-with-arcgis-notebooks/ta-p/1329699"
   ]
  },
  {
   "cell_type": "markdown",
   "metadata": {},
   "source": [
    "# Search for all file geodatabases\n",
    "\n",
    "We'll refine this list to delete previous backups in the backup folder next."
   ]
  },
  {
   "cell_type": "code",
   "execution_count": 6,
   "metadata": {},
   "outputs": [
    {
     "data": {
      "text/plain": [
       "259"
      ]
     },
     "execution_count": 6,
     "metadata": {},
     "output_type": "execute_result"
    }
   ],
   "source": [
    "allmyfgdbs = gis.content.search(\"owner:DublinOhio\", max_items = 2000, item_type = \"File Geodatabase\")\n",
    "\n",
    "len(allmyfgdbs)"
   ]
  },
  {
   "cell_type": "code",
   "execution_count": 7,
   "metadata": {},
   "outputs": [
    {
     "data": {
      "text/plain": [
       "[<Item title:\"Cache_Update_Boundary_Edit_AsOf_20211018T182512\" type:File Geodatabase owner:DublinOhio>,\n",
       " <Item title:\"Curbs Edit\" type:File Geodatabase owner:DublinOhio>,\n",
       " <Item title:\"Curbs Edit\" type:File Geodatabase owner:DublinOhio>,\n",
       " <Item title:\"Curbs Edit\" type:File Geodatabase owner:DublinOhio>,\n",
       " <Item title:\"Tree Canopy Detail Edit\" type:File Geodatabase owner:DublinOhio>,\n",
       " <Item title:\"Signs Edit\" type:File Geodatabase owner:DublinOhio>,\n",
       " <Item title:\"Tree Canopy Detail Edit\" type:File Geodatabase owner:DublinOhio>,\n",
       " <Item title:\"Street Lights Other Edit\" type:File Geodatabase owner:DublinOhio>,\n",
       " <Item title:\"Tree Canopy 2010\" type:File Geodatabase owner:DublinOhio>,\n",
       " <Item title:\"Tree Canopy Detail Edit\" type:File Geodatabase owner:DublinOhio>]"
      ]
     },
     "execution_count": 7,
     "metadata": {},
     "output_type": "execute_result"
    }
   ],
   "source": [
    "allmyfgdbs[:10] # first 10 "
   ]
  },
  {
   "cell_type": "markdown",
   "metadata": {},
   "source": [
    "# Funcitons to Find, then Delete Previous Backups in Batches\n",
    "\n",
    "Search all filegeodatabases, find those that are already in the backup folder"
   ]
  },
  {
   "cell_type": "code",
   "execution_count": null,
   "metadata": {},
   "outputs": [],
   "source": [
    "def get_items_in_bkflder():\n",
    "    \n",
    "    ######\n",
    "    # INPUT: list of all file geodatabses\n",
    "    # OUTPUT: list of file geodatabaes in the backup folders or ones with backuptag. \n",
    "    # A FGDB with the backuptag still probably failed to move from the home folder\n",
    "    # \n",
    "    \n",
    "    ######\n",
    "    itemlist = gis.content.search(\"owner:DublinOhio\", max_items = 2000, item_type = \"File Geodatabase\")\n",
    "    \n",
    "    items_in_backupkfolder = []\n",
    "\n",
    "    for item in itemlist:\n",
    "\n",
    "        # folder id for GIS Layers Backups. \n",
    "        # this is finding all the existing backups that are in that specified folder\n",
    "        if item[\"ownerFolder\"] == backups_folder:\n",
    "            items_in_backupkfolder.append(item)\n",
    "            \n",
    "    print(\"Length of items in backup folder: \", len(items_in_backupkfolder))\n",
    "    \n",
    "    return items_in_backupkfolder"
   ]
  },
  {
   "cell_type": "code",
   "execution_count": 9,
   "metadata": {},
   "outputs": [
    {
     "name": "stdout",
     "output_type": "stream",
     "text": [
      "Length of items in backup folder:  5\n"
     ]
    }
   ],
   "source": [
    "items_in_bkflder = get_items_in_bkflder()"
   ]
  },
  {
   "cell_type": "markdown",
   "metadata": {},
   "source": [
    "Then, delete them, in batches of 100"
   ]
  },
  {
   "cell_type": "code",
   "execution_count": 10,
   "metadata": {
    "scrolled": true
   },
   "outputs": [],
   "source": [
    "def backupDeleter(list_of_items_to_delete, list_all_fgdbs = allmyfgdbs):\n",
    "        \n",
    "    ######\n",
    "    # INPUT: list of items to delete\n",
    "    # OUTPUT: None; deletes items. Prints results.\n",
    "    \n",
    "    ######\n",
    "    \n",
    "    print(\"Starting backupDeleter...\")\n",
    "    n_backups = len(list_of_items_to_delete)\n",
    "    \n",
    "    # when backups are already gone we don't need to delete them.\n",
    "    if n_backups > 0:\n",
    "\n",
    "        #get number of batches needed, each batch can be max 100 \n",
    "        n_batches = ceil(n_backups/100.00)\n",
    "        print(\"Chop the list of backups to delete into {} batches\".format(n_batches))\n",
    "\n",
    "        # https://numpy.org/doc/stable/reference/generated/numpy.array_split.html#numpy.array_split\n",
    "        # split batch list into about equal numbers per batch\n",
    "        batch_list = np.array_split(list_of_items_to_delete, n_batches)\n",
    "\n",
    "        for i in batch_list:\n",
    "            print(\"Batch length: \",len(i))\n",
    "\n",
    "        for i, batch in enumerate(batch_list):\n",
    "            print(\"starting batch \", i+1)\n",
    "            \n",
    "            try:\n",
    "                gis.content.delete_items(items = batch)\n",
    "            except Exception as error:\n",
    "                # handle the exception\n",
    "                print(\"An exception occurred:\", error) \n",
    "                \n",
    "            print(\"\\tBatch complete\")\n",
    "            \n",
    "        ## Check if succesfully deleted all. \n",
    "        \n",
    "        new_list_of_items_to_delete = get_items_in_bkflder()\n",
    "        \n",
    "        if len(new_list_of_items_to_delete) > 0:\n",
    "            print(\"\\tResult:\\t!!!Hey there's still backups in the backup folder that weren't deleted!!!\")\n",
    "\n",
    "        elif len(new_list_of_items_to_delete) == 0:\n",
    "            print(\"\\tResult:\\tPrevious backup deletion completed, len(items_in_bkflder) == 0\")\n",
    "\n",
    "    elif n_backups == 0:\n",
    "\n",
    "        print(\"No backups to delete\")\n",
    "    "
   ]
  },
  {
   "cell_type": "code",
   "execution_count": 11,
   "metadata": {},
   "outputs": [
    {
     "name": "stdout",
     "output_type": "stream",
     "text": [
      "Starting backupDeleter...\n",
      "Chop the list of backups to delete into 1 batches\n",
      "Batch length:  5\n",
      "starting batch  1\n",
      "\tBatch complete\n",
      "Length of items in backup folder:  5\n",
      "\tResult:\t!!!Hey there's still backups in the backup folder that weren't deleted!!!\n"
     ]
    }
   ],
   "source": [
    "backupDeleter(items_in_bkflder)"
   ]
  },
  {
   "cell_type": "markdown",
   "metadata": {},
   "source": [
    "# Function to Create List of Content to Backup\n",
    "## Important! Filter input\n",
    "####  `\"tags:HFLBackupIncludeYes\"` A specific tag for filter \n",
    "#### `item_type=\"Feature Layer\"` , Only get Feature Layer types\n",
    "\n",
    "otherwise the created GDBs may be included and backup content that does not need to be."
   ]
  },
  {
   "cell_type": "code",
   "execution_count": 12,
   "metadata": {},
   "outputs": [],
   "source": [
    "def makeBkupList(backupTag = backup_tag):\n",
    "    \n",
    "    ######\n",
    "    # INPUT: tag that identifies feature layers for backups\n",
    "    # OUTPUT: list of Feature layers that have the corresponding tag\n",
    "    \n",
    "    ######\n",
    "    \n",
    "    \n",
    "    print(\"Searching for content with tag: \", backupTag)\n",
    "    bkupContentList = gis.content.search(query=\"tags:\"+ backupTag, \n",
    "                                item_type=\"Feature *\",  #Feature Service, Feature Layer, Feature Collection\n",
    "                                max_items=2000)\n",
    "    print(\"Query Results to Backup:\\n\", bkupContentList)\n",
    "    return bkupContentList"
   ]
  },
  {
   "cell_type": "code",
   "execution_count": 13,
   "metadata": {},
   "outputs": [
    {
     "name": "stdout",
     "output_type": "stream",
     "text": [
      "Searching for content with tag:  HFLBackupIncludeYes\n",
      "Query Results to Backup:\n",
      " [<Item title:\"TIF Parcels Edit\" type:Feature Layer Collection owner:DublinOhio>, <Item title:\"Floodplain Historic 2007 Edit\" type:Feature Layer Collection owner:DublinOhio>, <Item title:\"Memorial Parking Lots Edit\" type:Feature Layer Collection owner:DublinOhio>, <Item title:\"Traffic Signal Loop Detectors Edit\" type:Feature Layer Collection owner:DublinOhio>, <Item title:\"Birdboxes Edit\" type:Feature Layer Collection owner:DublinOhio>, <Item title:\"Emergency Detour Routes Edit\" type:Feature Layer Collection owner:DublinOhio>, <Item title:\"DORA Businesses Edit\" type:Feature Layer Collection owner:DublinOhio>, <Item title:\"EMA Event Area Edit\" type:Feature Layer Collection owner:DublinOhio>, <Item title:\"Backwater Valve Inventory Edit\" type:Feature Layer Collection owner:DublinOhio>, <Item title:\"Landscaping Contracts Edit\" type:Feature Layer Collection owner:DublinOhio>, <Item title:\"High School Attendance Areas\" type:Feature Layer Collection owner:DublinOhio>, <Item title:\"Memorial Tournament Parking Lot and Street No Parking Signage Edit\" type:Feature Layer Collection owner:DublinOhio>, <Item title:\"CVT Edit\" type:Feature Layer Collection owner:DublinOhio>, <Item title:\"Crashes Edit Copied\" type:Feature Layer Collection owner:DublinOhio>, <Item title:\"Other Bikeways Edit\" type:Feature Layer Collection owner:DublinOhio>, <Item title:\"Water Utility Edit\" type:Feature Layer Collection owner:DublinOhio>, <Item title:\"Event Boundaries Area Edit\" type:Feature Layer Collection owner:DublinOhio>, <Item title:\"Points of Interest Edit\" type:Feature Layer Collection owner:DublinOhio>, <Item title:\"Subdivision Sections Edit\" type:Feature Layer Collection owner:DublinOhio>, <Item title:\"Intersections Edit\" type:Feature Layer Collection owner:DublinOhio>, <Item title:\"Historic District Structure Info Edit\" type:Feature Layer Collection owner:DublinOhio>, <Item title:\"Floodplain FIRM Panels Edit\" type:Feature Layer Collection owner:DublinOhio>, <Item title:\"Cache Update Boundary Edit\" type:Feature Layer Collection owner:DublinOhio>, <Item title:\"Cultural Assessment Structures Edit\" type:Feature Layer Collection owner:DublinOhio>, <Item title:\"Bridge Street District Non-Study Area Edit\" type:Feature Layer Collection owner:DublinOhio>, <Item title:\"Acquisition Comments Edit\" type:Feature Layer Collection owner:DublinOhio>, <Item title:\"Bedrock Edit\" type:Feature Layer Collection owner:DublinOhio>, <Item title:\"Dublin Database\" type:Feature Layer Collection owner:DublinOhio>, <Item title:\"Bridge Street District Study Area Edit\" type:Feature Layer Collection owner:DublinOhio>, <Item title:\"EMA Event Point Edit\" type:Feature Layer Collection owner:DublinOhio>, <Item title:\"Floodplain Edit\" type:Feature Layer Collection owner:DublinOhio>, <Item title:\"Electric Poles Edit\" type:Feature Layer Collection owner:DublinOhio>, <Item title:\"Event Signage Edit\" type:Feature Layer Collection owner:DublinOhio>, <Item title:\"Other Agreement Areas Edit\" type:Feature Layer Collection owner:DublinOhio>, <Item title:\"Zoning Edit\" type:Feature Layer Collection owner:DublinOhio>, <Item title:\"Decks Docks Stairs Edit\" type:Feature Layer Collection owner:rjtaylor@dublin.oh.us_DublinOhio>, <Item title:\"EMA Structure Inspection Edit\" type:Feature Layer Collection owner:DublinOhio>, <Item title:\"Deer Auto Collisions Edit\" type:Feature Layer Collection owner:DublinOhio>, <Item title:\"Other Parks Edit\" type:Feature Layer Collection owner:DublinOhio>, <Item title:\"Restroom Facilities Edit\" type:Feature Layer Collection owner:DublinOhio>, <Item title:\"DIF Grid Edit\" type:Feature Layer Collection owner:DublinOhio>, <Item title:\"Census Block Groups 2010 Edit\" type:Feature Layer Collection owner:DublinOhio>, <Item title:\"Memorial Tournament No Parking Zones Edit\" type:Feature Layer Collection owner:DublinOhio>, <Item title:\"Number of Lanes Edit\" type:Feature Layer Collection owner:DublinOhio>, <Item title:\"City Facilities Edit\" type:Feature Layer Collection owner:DublinOhio>, <Item title:\"Bridge Rails Edit\" type:Feature Layer Collection owner:DublinOhio>, <Item title:\"Scenic Roads Edit\" type:Feature Layer Collection owner:DublinOhio>, <Item title:\"Memorial Tournament POI Edit\" type:Feature Layer Collection owner:DublinOhio>, <Item title:\"Ward_Boundary_Work_Neigh_Validate\" type:Feature Layer Collection owner:DublinOhio>, <Item title:\"School Districts Edit\" type:Feature Layer Collection owner:DublinOhio>, <Item title:\"Snow Zones Edit\" type:Feature Layer Collection owner:DublinOhio>, <Item title:\"Service Districts Edit\" type:Feature Layer Collection owner:DublinOhio>, <Item title:\"Bikeway Signed Route Edit\" type:Feature Layer Collection owner:DublinOhio>, <Item title:\"Signs Edit\" type:Feature Layer Collection owner:DublinOhio>, <Item title:\"Commercial Trees Edit\" type:Feature Layer Collection owner:DublinOhio>, <Item title:\"Pavement Striping\" type:Feature Layer Collection owner:DublinOhio>, <Item title:\"Dublink Regional (Outer Loop and Downtown)\" type:Feature Layer Collection owner:DublinOhio>, <Item title:\"Community Event Race Routes Equipment Edit\" type:Feature Layer Collection owner:DublinOhio>, <Item title:\"Storm Sewer Edit\" type:Feature Layer Collection owner:DublinOhio>, <Item title:\"Buildings Edit\" type:Feature Layer Collection owner:DublinOhio>, <Item title:\"Bikeways Future Planning Edit\" type:Feature Layer Collection owner:DublinOhio>, <Item title:\"Bikeways Edit\" type:Feature Layer Collection owner:DublinOhio>, <Item title:\"Street Light Controllers Edit\" type:Feature Layer Collection owner:DublinOhio>, <Item title:\"Storm Mains Fieldwork Edit\" type:Feature Layer Collection owner:DublinOhio>, <Item title:\"Cellular Towers Edit\" type:Feature Layer Collection owner:DublinOhio>, <Item title:\"Independence Day Grid Edit\" type:Feature Layer Collection owner:DublinOhio>, <Item title:\"Construction Projects Edit\" type:Feature Layer Collection owner:DublinOhio>, <Item title:\"Memorial Tournament Cones Edit\" type:Feature Layer Collection owner:DublinOhio>, <Item title:\"Water Main Breaks Edit\" type:Feature Layer Collection owner:DublinOhio>, <Item title:\"Cultural Assessment Walls Edit\" type:Feature Layer Collection owner:DublinOhio>, <Item title:\"City Facilities GoDublin Edit\" type:Feature Layer Collection owner:DublinOhio>, <Item title:\"Indian Mounds Edit\" type:Feature Layer Collection owner:DublinOhio>, <Item title:\"Non-Dublin Area Edit\" type:Feature Layer Collection owner:DublinOhio>, <Item title:\"Stream Protection Zone Edit\" type:Feature Layer Collection owner:DublinOhio>, <Item title:\"Floodplain LOMR Edit\" type:Feature Layer Collection owner:DublinOhio>, <Item title:\"Parcel Update Boundary Edit\" type:Feature Layer Collection owner:DublinOhio>, <Item title:\"WiFi AP Edit\" type:Feature Layer Collection owner:DublinOhio>, <Item title:\"Forever Dublin Addresses Edit\" type:Feature Layer Collection owner:DublinOhio>, <Item title:\"Non DEM Area Edit\" type:Feature Layer Collection owner:DublinOhio>, <Item title:\"Watersheds Edit\" type:Feature Layer Collection owner:DublinOhio>, <Item title:\"Architectural Review District Edit\" type:Feature Layer Collection owner:DublinOhio>, <Item title:\"Dublin Water and Sewer Service Area Edit\" type:Feature Layer Collection owner:DublinOhio>, <Item title:\"Future Land Use 2012 Edit (Current Production)\" type:Feature Layer Collection owner:DublinOhio>, <Item title:\"Medians Edit\" type:Feature Layer Collection owner:DublinOhio>, <Item title:\"Irrigation Lines Edit\" type:Feature Layer Collection owner:DublinOhio>, <Item title:\"Cellular Infrastructure - Edit\" type:Feature Layer Collection owner:DublinOhio>, <Item title:\"Traffic Signal Cntrl Cabinets Edit\" type:Feature Layer Collection owner:DublinOhio>, <Item title:\"Crashes Edit\" type:Feature Layer Collection owner:DublinOhio>, <Item title:\"Neighborhoods Edit\" type:Feature Layer Collection owner:DublinOhio>, <Item title:\"Subdivisions Edit\" type:Feature Layer Collection owner:DublinOhio>, <Item title:\"Street Lights Edit\" type:Feature Layer Collection owner:DublinOhio>, <Item title:\"Crosswalks Edit\" type:Feature Layer Collection owner:DublinOhio>, <Item title:\"Street Trees Edit\" type:Feature Layer Collection owner:DublinOhio>, <Item title:\"Sanitary Sewer Edit\" type:Feature Layer Collection owner:DublinOhio>, <Item title:\"Memorial Tournament Street Signs Edit (HFL)\" type:Feature Layer Collection owner:DublinOhio>, <Item title:\"Event Significant Points Edit\" type:Feature Layer Collection owner:DublinOhio>, <Item title:\"Citizen U Edit\" type:Feature Layer Collection owner:DublinOhio>, <Item title:\"St Signs Small Golf Tournament Edit\" type:Feature Layer Collection owner:rfrantz@dublin.oh.us_DublinOhio>, <Item title:\"Memorial Grid Edit\" type:Feature Layer Collection owner:DublinOhio>, <Item title:\"Guardrails Edit\" type:Feature Layer Collection owner:DublinOhio>, <Item title:\"Counties Edit\" type:Feature Layer Collection owner:DublinOhio>, <Item title:\"Smart Mobility Areas Edit\" type:Feature Layer Collection owner:DublinOhio>, <Item title:\"Cemeteries Edit\" type:Feature Layer Collection owner:DublinOhio>, <Item title:\"TEST Water Features_Edit\" type:Feature Layer Collection owner:DublinOhio>, <Item title:\"Art In Public Places Edit\" type:Feature Layer Collection owner:DublinOhio>, <Item title:\"Damage Assessment Edit\" type:Feature Layer Collection owner:DublinOhio>, <Item title:\"Sanitary Flow Meters Edit\" type:Feature Layer Collection owner:DublinOhio>, <Item title:\"Electric Circuit Areas Edit\" type:Feature Layer Collection owner:DublinOhio>, <Item title:\"Utility Revenue Sharing Areas Edit\" type:Feature Layer Collection owner:DublinOhio>, <Item title:\"Recreation Points of Interest Edit\" type:Feature Layer Collection owner:DublinOhio>, <Item title:\"Dublink Edit\" type:Feature Layer Collection owner:DublinOhio>, <Item title:\"Aerial Grid 2005 to 2007 Edit\" type:Feature Layer Collection owner:DublinOhio>, <Item title:\"2003 Aerial Grid Edit\" type:Feature Layer Collection owner:DublinOhio>, <Item title:\"Signature Event Restroom Locations Edit\" type:Feature Layer Collection owner:DublinOhio>, <Item title:\"Existing Land Use 2012 Edit (Current Production)\" type:Feature Layer Collection owner:DublinOhio>, <Item title:\"Parcels Edit\" type:Feature Layer Collection owner:DublinOhio>, <Item title:\"Census Blocks 2010 Edit\" type:Feature Layer Collection owner:DublinOhio>, <Item title:\"Traffic Signal Fiber Edit\" type:Feature Layer Collection owner:DublinOhio>, <Item title:\"Pavement Striping Edit\" type:Feature Layer Collection owner:DublinOhio>, <Item title:\"Soils Edit\" type:Feature Layer Collection owner:DublinOhio>, <Item title:\"Curbs Edit\" type:Feature Layer Collection owner:DublinOhio>, <Item title:\"Code Enforcement Landscape Notes Edit\" type:Feature Layer Collection owner:DublinOhio>, <Item title:\"Bridge Street District Street Network Edit\" type:Feature Layer Collection owner:DublinOhio>, <Item title:\"Signature Event Tents Edit\" type:Feature Layer Collection owner:DublinOhio>, <Item title:\"Aerial Grid 2018 Edit\" type:Feature Layer Collection owner:DublinOhio>, <Item title:\"Sidewalks Edit\" type:Feature Layer Collection owner:DublinOhio>, <Item title:\"Stream Outfalls Edit\" type:Feature Layer Collection owner:DublinOhio>, <Item title:\"Aerial Photo Extent Edit\" type:Feature Layer Collection owner:DublinOhio>, <Item title:\"County Permissive Tax Roads Edit\" type:Feature Layer Collection owner:DublinOhio>, <Item title:\"Pavement Markings Edit\" type:Feature Layer Collection owner:DublinOhio>, <Item title:\"Tree Canopy 2010\" type:Feature Layer Collection owner:DublinOhio>, <Item title:\"Elementary Attendance Areas\" type:Feature Layer Collection owner:DublinOhio>, <Item title:\"Lighting Edit\" type:Feature Layer Collection owner:DublinOhio>, <Item title:\"Memoria Tournament Pre Event Signage Edit\" type:Feature Layer Collection owner:DublinOhio>, <Item title:\"Pavement Historic Repairs Edit\" type:Feature Layer Collection owner:DublinOhio>, <Item title:\"Flag Poles Edit\" type:Feature Layer Collection owner:DublinOhio>, <Item title:\"Street Map Grid Edit\" type:Feature Layer Collection owner:DublinOhio>, <Item title:\"Council Wards Edit\" type:Feature Layer Collection owner:DublinOhio>, <Item title:\"Future Fiber Edit\" type:Feature Layer Collection owner:DublinOhio>, <Item title:\"Emergency Detour Deployments Edit\" type:Feature Layer Collection owner:DublinOhio>, <Item title:\"Dublink Buildings Edit\" type:Feature Layer Collection owner:DublinOhio>, <Item title:\"Regional Fiber Edit\" type:Feature Layer Collection owner:DublinOhio>, <Item title:\"Water Features Edit\" type:Feature Layer Collection owner:DublinOhio>, <Item title:\"Traffic Signal Fiber Intersect Points Edit\" type:Feature Layer Collection owner:DublinOhio>, <Item title:\"Dublin Parks Edit\" type:Feature Layer Collection owner:DublinOhio>, <Item title:\"Leaf Truck Tracker Edit\" type:Feature Layer Collection owner:DublinOhio>, <Item title:\"Intersections Edit Copied\" type:Feature Layer Collection owner:DublinOhio>, <Item title:\"Curb Ramps Edit\" type:Feature Layer Collection owner:DublinOhio>, <Item title:\"DORA Points of Interest Edit\" type:Feature Layer Collection owner:DublinOhio>, <Item title:\"Area Attractions Edit\" type:Feature Layer Collection owner:DublinOhio>, <Item title:\"Streets Polygon Fill Edit\" type:Feature Layer Collection owner:DublinOhio>, <Item title:\"Bike Fix-It Stations Edit\" type:Feature Layer Collection owner:DublinOhio>, <Item title:\"Address Grid Edit\" type:Feature Layer Collection owner:DublinOhio>, <Item title:\"Sea Monsters Edit\" type:Feature Layer Collection owner:DublinOhio>, <Item title:\"Trash Cans Edit\" type:Feature Layer Collection owner:DublinOhio>, <Item title:\"Streams Edit\" type:Feature Layer Collection owner:DublinOhio>, <Item title:\"Parking Lots Edit\" type:Feature Layer Collection owner:DublinOhio>, <Item title:\"Bike Racks Edit\" type:Feature Layer Collection owner:DublinOhio>, <Item title:\"Bikeway Tunnels Edit\" type:Feature Layer Collection owner:rjtaylor@dublin.oh.us_DublinOhio>, <Item title:\"School Speed Zones Edit\" type:Feature Layer Collection owner:DublinOhio>, <Item title:\"Speed Surveys Edit\" type:Feature Layer Collection owner:twawszkiewicz@dublin.oh.us_DublinOhio>, <Item title:\"TEST Water Features\" type:Feature Layer Collection owner:DublinOhio>, <Item title:\"Code Enforcement Special Projects Edit\" type:Feature Layer Collection owner:DublinOhio>, <Item title:\"Utility Extension Areas Edit\" type:Feature Layer Collection owner:DublinOhio>, <Item title:\"Smart Mobility Hubs Edit\" type:Feature Layer Collection owner:DublinOhio>, <Item title:\"Event Signs Install Order Edit\" type:Feature Layer Collection owner:DublinOhio>, <Item title:\"Agreement Areas Edit\" type:Feature Layer Collection owner:DublinOhio>, <Item title:\"Annexation History Edit\" type:Feature Layer Collection owner:DublinOhio>, <Item title:\"Community Event Race Routes Equipment IndDay View\" type:Feature Layer Collection owner:DublinOhio>, <Item title:\"Railroads Edit\" type:Feature Layer Collection owner:DublinOhio>, <Item title:\"City Property Edit\" type:Feature Layer Collection owner:DublinOhio>, <Item title:\"Memorial Cones Edit\" type:Feature Layer Collection owner:DublinOhio>, <Item title:\"SanitaryLayersForOUPS_PreEdits\" type:Feature Layer Collection owner:DublinOhio>, <Item title:\"Subdivisions Attribute Editor\" type:Feature Layer Collection owner:DublinOhio>, <Item title:\"Parking Restrictions Edit\" type:Feature Layer Collection owner:DublinOhio>, <Item title:\"Woodlots Edit\" type:Feature Layer Collection owner:DublinOhio>, <Item title:\"EMA Event Line Edit\" type:Feature Layer Collection owner:DublinOhio>, <Item title:\"Water Pressure Districts Edit\" type:Feature Layer Collection owner:DublinOhio>, <Item title:\"Recreation Facilities Edit\" type:Feature Layer Collection owner:DublinOhio>, <Item title:\"Irrigation Points Edit\" type:Feature Layer Collection owner:DublinOhio>, <Item title:\"Memorial Barriers Edit\" type:Feature Layer Collection owner:DublinOhio>, <Item title:\"Event Signage Install\" type:Feature Layer Collection owner:DublinOhio>, <Item title:\"Schools Edit\" type:Feature Layer Collection owner:DublinOhio>, <Item title:\"School Attendance Areas Edit\" type:Feature Layer Collection owner:DublinOhio>, <Item title:\"2009 Aerial Grid Edit\" type:Feature Layer Collection owner:DublinOhio>, <Item title:\"Metro Occupancy Rates Edit\" type:Feature Layer Collection owner:DublinOhio>, <Item title:\"Gateways Edit\" type:Feature Layer Collection owner:DublinOhio>, <Item title:\"2011 Aerial Grid Edit\" type:Feature Layer Collection owner:DublinOhio>, <Item title:\"River Edit\" type:Feature Layer Collection owner:DublinOhio>, <Item title:\"Wetlands Edit\" type:Feature Layer Collection owner:DublinOhio>, <Item title:\"Electric Lines Edit\" type:Feature Layer Collection owner:DublinOhio>, <Item title:\"Sanitary Sewer Breaks Edit\" type:Feature Layer Collection owner:DublinOhio>, <Item title:\"Archeological Sites Edit\" type:Feature Layer Collection owner:DublinOhio>, <Item title:\"Playgrounds Edit\" type:Feature Layer Collection owner:DublinOhio>, <Item title:\"Memoria Tournament Pre-Event Signage\" type:Feature Layer Collection owner:DublinOhio>, <Item title:\"Street Lights Other Edit\" type:Feature Layer Collection owner:DublinOhio>, <Item title:\"Pavement Edit Attribute Only\" type:Feature Layer Collection owner:rjtaylor@dublin.oh.us_DublinOhio>, <Item title:\"Memorial Tournament Course Signage Edit\" type:Feature Layer Collection owner:DublinOhio>, <Item title:\"DORA Boundary - Edit\" type:Feature Layer Collection owner:DublinOhio>, <Item title:\"Electronic Signage Edit\" type:Feature Layer Collection owner:DublinOhio>, <Item title:\"Pavement Edit\" type:Feature Layer Collection owner:rjtaylor@dublin.oh.us_DublinOhio>, <Item title:\"Future Streets Edit\" type:Feature Layer Collection owner:DublinOhio>, <Item title:\"Sirens Edit\" type:Feature Layer Collection owner:DublinOhio>, <Item title:\"Dublin 3D Buildings\" type:Feature Layer Collection owner:DublinOhio>, <Item title:\"Parking Occupancy Data Edit\" type:Feature Layer Collection owner:DublinOhio>, <Item title:\"Middle School Attendance Areas\" type:Feature Layer Collection owner:DublinOhio>, <Item title:\"DEWS Edit\" type:Feature Layer Collection owner:DublinOhio>, <Item title:\"Traffic Signal Poles Edit\" type:Feature Layer Collection owner:DublinOhio>, <Item title:\"Culverts Edit\" type:Feature Layer Collection owner:DublinOhio>, <Item title:\"Zipcodes Edit\" type:Feature Layer Collection owner:DublinOhio>, <Item title:\"Entry Exit Counter Edit\" type:Feature Layer Collection owner:DublinOhio>, <Item title:\"Walls Edit\" type:Feature Layer Collection owner:DublinOhio>, <Item title:\"Capital Improvement Projects Edit\" type:Feature Layer Collection owner:DublinOhio>, <Item title:\"Traffic Signals Edit\" type:Feature Layer Collection owner:DublinOhio>, <Item title:\"Bridges Edit\" type:Feature Layer Collection owner:DublinOhio>, <Item title:\"Census Tracts 2010 Edit\" type:Feature Layer Collection owner:DublinOhio>, <Item title:\"Tree Canopy Detail Edit\" type:Feature Layer Collection owner:DublinOhio>, <Item title:\"Leaf Streets Edit\" type:Feature Layer Collection owner:DublinOhio>, <Item title:\"Edit Mule\" type:Feature Layer Collection owner:DublinOhio>]\n"
     ]
    },
    {
     "data": {
      "text/plain": [
       "[<Item title:\"TIF Parcels Edit\" type:Feature Layer Collection owner:DublinOhio>,\n",
       " <Item title:\"Floodplain Historic 2007 Edit\" type:Feature Layer Collection owner:DublinOhio>,\n",
       " <Item title:\"Memorial Parking Lots Edit\" type:Feature Layer Collection owner:DublinOhio>,\n",
       " <Item title:\"Traffic Signal Loop Detectors Edit\" type:Feature Layer Collection owner:DublinOhio>,\n",
       " <Item title:\"Birdboxes Edit\" type:Feature Layer Collection owner:DublinOhio>,\n",
       " <Item title:\"Emergency Detour Routes Edit\" type:Feature Layer Collection owner:DublinOhio>,\n",
       " <Item title:\"DORA Businesses Edit\" type:Feature Layer Collection owner:DublinOhio>,\n",
       " <Item title:\"EMA Event Area Edit\" type:Feature Layer Collection owner:DublinOhio>,\n",
       " <Item title:\"Backwater Valve Inventory Edit\" type:Feature Layer Collection owner:DublinOhio>,\n",
       " <Item title:\"Landscaping Contracts Edit\" type:Feature Layer Collection owner:DublinOhio>,\n",
       " <Item title:\"High School Attendance Areas\" type:Feature Layer Collection owner:DublinOhio>,\n",
       " <Item title:\"Memorial Tournament Parking Lot and Street No Parking Signage Edit\" type:Feature Layer Collection owner:DublinOhio>,\n",
       " <Item title:\"CVT Edit\" type:Feature Layer Collection owner:DublinOhio>,\n",
       " <Item title:\"Crashes Edit Copied\" type:Feature Layer Collection owner:DublinOhio>,\n",
       " <Item title:\"Other Bikeways Edit\" type:Feature Layer Collection owner:DublinOhio>,\n",
       " <Item title:\"Water Utility Edit\" type:Feature Layer Collection owner:DublinOhio>,\n",
       " <Item title:\"Event Boundaries Area Edit\" type:Feature Layer Collection owner:DublinOhio>,\n",
       " <Item title:\"Points of Interest Edit\" type:Feature Layer Collection owner:DublinOhio>,\n",
       " <Item title:\"Subdivision Sections Edit\" type:Feature Layer Collection owner:DublinOhio>,\n",
       " <Item title:\"Intersections Edit\" type:Feature Layer Collection owner:DublinOhio>,\n",
       " <Item title:\"Historic District Structure Info Edit\" type:Feature Layer Collection owner:DublinOhio>,\n",
       " <Item title:\"Floodplain FIRM Panels Edit\" type:Feature Layer Collection owner:DublinOhio>,\n",
       " <Item title:\"Cache Update Boundary Edit\" type:Feature Layer Collection owner:DublinOhio>,\n",
       " <Item title:\"Cultural Assessment Structures Edit\" type:Feature Layer Collection owner:DublinOhio>,\n",
       " <Item title:\"Bridge Street District Non-Study Area Edit\" type:Feature Layer Collection owner:DublinOhio>,\n",
       " <Item title:\"Acquisition Comments Edit\" type:Feature Layer Collection owner:DublinOhio>,\n",
       " <Item title:\"Bedrock Edit\" type:Feature Layer Collection owner:DublinOhio>,\n",
       " <Item title:\"Dublin Database\" type:Feature Layer Collection owner:DublinOhio>,\n",
       " <Item title:\"Bridge Street District Study Area Edit\" type:Feature Layer Collection owner:DublinOhio>,\n",
       " <Item title:\"EMA Event Point Edit\" type:Feature Layer Collection owner:DublinOhio>,\n",
       " <Item title:\"Floodplain Edit\" type:Feature Layer Collection owner:DublinOhio>,\n",
       " <Item title:\"Electric Poles Edit\" type:Feature Layer Collection owner:DublinOhio>,\n",
       " <Item title:\"Event Signage Edit\" type:Feature Layer Collection owner:DublinOhio>,\n",
       " <Item title:\"Other Agreement Areas Edit\" type:Feature Layer Collection owner:DublinOhio>,\n",
       " <Item title:\"Zoning Edit\" type:Feature Layer Collection owner:DublinOhio>,\n",
       " <Item title:\"Decks Docks Stairs Edit\" type:Feature Layer Collection owner:rjtaylor@dublin.oh.us_DublinOhio>,\n",
       " <Item title:\"EMA Structure Inspection Edit\" type:Feature Layer Collection owner:DublinOhio>,\n",
       " <Item title:\"Deer Auto Collisions Edit\" type:Feature Layer Collection owner:DublinOhio>,\n",
       " <Item title:\"Other Parks Edit\" type:Feature Layer Collection owner:DublinOhio>,\n",
       " <Item title:\"Restroom Facilities Edit\" type:Feature Layer Collection owner:DublinOhio>,\n",
       " <Item title:\"DIF Grid Edit\" type:Feature Layer Collection owner:DublinOhio>,\n",
       " <Item title:\"Census Block Groups 2010 Edit\" type:Feature Layer Collection owner:DublinOhio>,\n",
       " <Item title:\"Memorial Tournament No Parking Zones Edit\" type:Feature Layer Collection owner:DublinOhio>,\n",
       " <Item title:\"Number of Lanes Edit\" type:Feature Layer Collection owner:DublinOhio>,\n",
       " <Item title:\"City Facilities Edit\" type:Feature Layer Collection owner:DublinOhio>,\n",
       " <Item title:\"Bridge Rails Edit\" type:Feature Layer Collection owner:DublinOhio>,\n",
       " <Item title:\"Scenic Roads Edit\" type:Feature Layer Collection owner:DublinOhio>,\n",
       " <Item title:\"Memorial Tournament POI Edit\" type:Feature Layer Collection owner:DublinOhio>,\n",
       " <Item title:\"Ward_Boundary_Work_Neigh_Validate\" type:Feature Layer Collection owner:DublinOhio>,\n",
       " <Item title:\"School Districts Edit\" type:Feature Layer Collection owner:DublinOhio>,\n",
       " <Item title:\"Snow Zones Edit\" type:Feature Layer Collection owner:DublinOhio>,\n",
       " <Item title:\"Service Districts Edit\" type:Feature Layer Collection owner:DublinOhio>,\n",
       " <Item title:\"Bikeway Signed Route Edit\" type:Feature Layer Collection owner:DublinOhio>,\n",
       " <Item title:\"Signs Edit\" type:Feature Layer Collection owner:DublinOhio>,\n",
       " <Item title:\"Commercial Trees Edit\" type:Feature Layer Collection owner:DublinOhio>,\n",
       " <Item title:\"Pavement Striping\" type:Feature Layer Collection owner:DublinOhio>,\n",
       " <Item title:\"Dublink Regional (Outer Loop and Downtown)\" type:Feature Layer Collection owner:DublinOhio>,\n",
       " <Item title:\"Community Event Race Routes Equipment Edit\" type:Feature Layer Collection owner:DublinOhio>,\n",
       " <Item title:\"Storm Sewer Edit\" type:Feature Layer Collection owner:DublinOhio>,\n",
       " <Item title:\"Buildings Edit\" type:Feature Layer Collection owner:DublinOhio>,\n",
       " <Item title:\"Bikeways Future Planning Edit\" type:Feature Layer Collection owner:DublinOhio>,\n",
       " <Item title:\"Bikeways Edit\" type:Feature Layer Collection owner:DublinOhio>,\n",
       " <Item title:\"Street Light Controllers Edit\" type:Feature Layer Collection owner:DublinOhio>,\n",
       " <Item title:\"Storm Mains Fieldwork Edit\" type:Feature Layer Collection owner:DublinOhio>,\n",
       " <Item title:\"Cellular Towers Edit\" type:Feature Layer Collection owner:DublinOhio>,\n",
       " <Item title:\"Independence Day Grid Edit\" type:Feature Layer Collection owner:DublinOhio>,\n",
       " <Item title:\"Construction Projects Edit\" type:Feature Layer Collection owner:DublinOhio>,\n",
       " <Item title:\"Memorial Tournament Cones Edit\" type:Feature Layer Collection owner:DublinOhio>,\n",
       " <Item title:\"Water Main Breaks Edit\" type:Feature Layer Collection owner:DublinOhio>,\n",
       " <Item title:\"Cultural Assessment Walls Edit\" type:Feature Layer Collection owner:DublinOhio>,\n",
       " <Item title:\"City Facilities GoDublin Edit\" type:Feature Layer Collection owner:DublinOhio>,\n",
       " <Item title:\"Indian Mounds Edit\" type:Feature Layer Collection owner:DublinOhio>,\n",
       " <Item title:\"Non-Dublin Area Edit\" type:Feature Layer Collection owner:DublinOhio>,\n",
       " <Item title:\"Stream Protection Zone Edit\" type:Feature Layer Collection owner:DublinOhio>,\n",
       " <Item title:\"Floodplain LOMR Edit\" type:Feature Layer Collection owner:DublinOhio>,\n",
       " <Item title:\"Parcel Update Boundary Edit\" type:Feature Layer Collection owner:DublinOhio>,\n",
       " <Item title:\"WiFi AP Edit\" type:Feature Layer Collection owner:DublinOhio>,\n",
       " <Item title:\"Forever Dublin Addresses Edit\" type:Feature Layer Collection owner:DublinOhio>,\n",
       " <Item title:\"Non DEM Area Edit\" type:Feature Layer Collection owner:DublinOhio>,\n",
       " <Item title:\"Watersheds Edit\" type:Feature Layer Collection owner:DublinOhio>,\n",
       " <Item title:\"Architectural Review District Edit\" type:Feature Layer Collection owner:DublinOhio>,\n",
       " <Item title:\"Dublin Water and Sewer Service Area Edit\" type:Feature Layer Collection owner:DublinOhio>,\n",
       " <Item title:\"Future Land Use 2012 Edit (Current Production)\" type:Feature Layer Collection owner:DublinOhio>,\n",
       " <Item title:\"Medians Edit\" type:Feature Layer Collection owner:DublinOhio>,\n",
       " <Item title:\"Irrigation Lines Edit\" type:Feature Layer Collection owner:DublinOhio>,\n",
       " <Item title:\"Cellular Infrastructure - Edit\" type:Feature Layer Collection owner:DublinOhio>,\n",
       " <Item title:\"Traffic Signal Cntrl Cabinets Edit\" type:Feature Layer Collection owner:DublinOhio>,\n",
       " <Item title:\"Crashes Edit\" type:Feature Layer Collection owner:DublinOhio>,\n",
       " <Item title:\"Neighborhoods Edit\" type:Feature Layer Collection owner:DublinOhio>,\n",
       " <Item title:\"Subdivisions Edit\" type:Feature Layer Collection owner:DublinOhio>,\n",
       " <Item title:\"Street Lights Edit\" type:Feature Layer Collection owner:DublinOhio>,\n",
       " <Item title:\"Crosswalks Edit\" type:Feature Layer Collection owner:DublinOhio>,\n",
       " <Item title:\"Street Trees Edit\" type:Feature Layer Collection owner:DublinOhio>,\n",
       " <Item title:\"Sanitary Sewer Edit\" type:Feature Layer Collection owner:DublinOhio>,\n",
       " <Item title:\"Memorial Tournament Street Signs Edit (HFL)\" type:Feature Layer Collection owner:DublinOhio>,\n",
       " <Item title:\"Event Significant Points Edit\" type:Feature Layer Collection owner:DublinOhio>,\n",
       " <Item title:\"Citizen U Edit\" type:Feature Layer Collection owner:DublinOhio>,\n",
       " <Item title:\"St Signs Small Golf Tournament Edit\" type:Feature Layer Collection owner:rfrantz@dublin.oh.us_DublinOhio>,\n",
       " <Item title:\"Memorial Grid Edit\" type:Feature Layer Collection owner:DublinOhio>,\n",
       " <Item title:\"Guardrails Edit\" type:Feature Layer Collection owner:DublinOhio>,\n",
       " <Item title:\"Counties Edit\" type:Feature Layer Collection owner:DublinOhio>,\n",
       " <Item title:\"Smart Mobility Areas Edit\" type:Feature Layer Collection owner:DublinOhio>,\n",
       " <Item title:\"Cemeteries Edit\" type:Feature Layer Collection owner:DublinOhio>,\n",
       " <Item title:\"TEST Water Features_Edit\" type:Feature Layer Collection owner:DublinOhio>,\n",
       " <Item title:\"Art In Public Places Edit\" type:Feature Layer Collection owner:DublinOhio>,\n",
       " <Item title:\"Damage Assessment Edit\" type:Feature Layer Collection owner:DublinOhio>,\n",
       " <Item title:\"Sanitary Flow Meters Edit\" type:Feature Layer Collection owner:DublinOhio>,\n",
       " <Item title:\"Electric Circuit Areas Edit\" type:Feature Layer Collection owner:DublinOhio>,\n",
       " <Item title:\"Utility Revenue Sharing Areas Edit\" type:Feature Layer Collection owner:DublinOhio>,\n",
       " <Item title:\"Recreation Points of Interest Edit\" type:Feature Layer Collection owner:DublinOhio>,\n",
       " <Item title:\"Dublink Edit\" type:Feature Layer Collection owner:DublinOhio>,\n",
       " <Item title:\"Aerial Grid 2005 to 2007 Edit\" type:Feature Layer Collection owner:DublinOhio>,\n",
       " <Item title:\"2003 Aerial Grid Edit\" type:Feature Layer Collection owner:DublinOhio>,\n",
       " <Item title:\"Signature Event Restroom Locations Edit\" type:Feature Layer Collection owner:DublinOhio>,\n",
       " <Item title:\"Existing Land Use 2012 Edit (Current Production)\" type:Feature Layer Collection owner:DublinOhio>,\n",
       " <Item title:\"Parcels Edit\" type:Feature Layer Collection owner:DublinOhio>,\n",
       " <Item title:\"Census Blocks 2010 Edit\" type:Feature Layer Collection owner:DublinOhio>,\n",
       " <Item title:\"Traffic Signal Fiber Edit\" type:Feature Layer Collection owner:DublinOhio>,\n",
       " <Item title:\"Pavement Striping Edit\" type:Feature Layer Collection owner:DublinOhio>,\n",
       " <Item title:\"Soils Edit\" type:Feature Layer Collection owner:DublinOhio>,\n",
       " <Item title:\"Curbs Edit\" type:Feature Layer Collection owner:DublinOhio>,\n",
       " <Item title:\"Code Enforcement Landscape Notes Edit\" type:Feature Layer Collection owner:DublinOhio>,\n",
       " <Item title:\"Bridge Street District Street Network Edit\" type:Feature Layer Collection owner:DublinOhio>,\n",
       " <Item title:\"Signature Event Tents Edit\" type:Feature Layer Collection owner:DublinOhio>,\n",
       " <Item title:\"Aerial Grid 2018 Edit\" type:Feature Layer Collection owner:DublinOhio>,\n",
       " <Item title:\"Sidewalks Edit\" type:Feature Layer Collection owner:DublinOhio>,\n",
       " <Item title:\"Stream Outfalls Edit\" type:Feature Layer Collection owner:DublinOhio>,\n",
       " <Item title:\"Aerial Photo Extent Edit\" type:Feature Layer Collection owner:DublinOhio>,\n",
       " <Item title:\"County Permissive Tax Roads Edit\" type:Feature Layer Collection owner:DublinOhio>,\n",
       " <Item title:\"Pavement Markings Edit\" type:Feature Layer Collection owner:DublinOhio>,\n",
       " <Item title:\"Tree Canopy 2010\" type:Feature Layer Collection owner:DublinOhio>,\n",
       " <Item title:\"Elementary Attendance Areas\" type:Feature Layer Collection owner:DublinOhio>,\n",
       " <Item title:\"Lighting Edit\" type:Feature Layer Collection owner:DublinOhio>,\n",
       " <Item title:\"Memoria Tournament Pre Event Signage Edit\" type:Feature Layer Collection owner:DublinOhio>,\n",
       " <Item title:\"Pavement Historic Repairs Edit\" type:Feature Layer Collection owner:DublinOhio>,\n",
       " <Item title:\"Flag Poles Edit\" type:Feature Layer Collection owner:DublinOhio>,\n",
       " <Item title:\"Street Map Grid Edit\" type:Feature Layer Collection owner:DublinOhio>,\n",
       " <Item title:\"Council Wards Edit\" type:Feature Layer Collection owner:DublinOhio>,\n",
       " <Item title:\"Future Fiber Edit\" type:Feature Layer Collection owner:DublinOhio>,\n",
       " <Item title:\"Emergency Detour Deployments Edit\" type:Feature Layer Collection owner:DublinOhio>,\n",
       " <Item title:\"Dublink Buildings Edit\" type:Feature Layer Collection owner:DublinOhio>,\n",
       " <Item title:\"Regional Fiber Edit\" type:Feature Layer Collection owner:DublinOhio>,\n",
       " <Item title:\"Water Features Edit\" type:Feature Layer Collection owner:DublinOhio>,\n",
       " <Item title:\"Traffic Signal Fiber Intersect Points Edit\" type:Feature Layer Collection owner:DublinOhio>,\n",
       " <Item title:\"Dublin Parks Edit\" type:Feature Layer Collection owner:DublinOhio>,\n",
       " <Item title:\"Leaf Truck Tracker Edit\" type:Feature Layer Collection owner:DublinOhio>,\n",
       " <Item title:\"Intersections Edit Copied\" type:Feature Layer Collection owner:DublinOhio>,\n",
       " <Item title:\"Curb Ramps Edit\" type:Feature Layer Collection owner:DublinOhio>,\n",
       " <Item title:\"DORA Points of Interest Edit\" type:Feature Layer Collection owner:DublinOhio>,\n",
       " <Item title:\"Area Attractions Edit\" type:Feature Layer Collection owner:DublinOhio>,\n",
       " <Item title:\"Streets Polygon Fill Edit\" type:Feature Layer Collection owner:DublinOhio>,\n",
       " <Item title:\"Bike Fix-It Stations Edit\" type:Feature Layer Collection owner:DublinOhio>,\n",
       " <Item title:\"Address Grid Edit\" type:Feature Layer Collection owner:DublinOhio>,\n",
       " <Item title:\"Sea Monsters Edit\" type:Feature Layer Collection owner:DublinOhio>,\n",
       " <Item title:\"Trash Cans Edit\" type:Feature Layer Collection owner:DublinOhio>,\n",
       " <Item title:\"Streams Edit\" type:Feature Layer Collection owner:DublinOhio>,\n",
       " <Item title:\"Parking Lots Edit\" type:Feature Layer Collection owner:DublinOhio>,\n",
       " <Item title:\"Bike Racks Edit\" type:Feature Layer Collection owner:DublinOhio>,\n",
       " <Item title:\"Bikeway Tunnels Edit\" type:Feature Layer Collection owner:rjtaylor@dublin.oh.us_DublinOhio>,\n",
       " <Item title:\"School Speed Zones Edit\" type:Feature Layer Collection owner:DublinOhio>,\n",
       " <Item title:\"Speed Surveys Edit\" type:Feature Layer Collection owner:twawszkiewicz@dublin.oh.us_DublinOhio>,\n",
       " <Item title:\"TEST Water Features\" type:Feature Layer Collection owner:DublinOhio>,\n",
       " <Item title:\"Code Enforcement Special Projects Edit\" type:Feature Layer Collection owner:DublinOhio>,\n",
       " <Item title:\"Utility Extension Areas Edit\" type:Feature Layer Collection owner:DublinOhio>,\n",
       " <Item title:\"Smart Mobility Hubs Edit\" type:Feature Layer Collection owner:DublinOhio>,\n",
       " <Item title:\"Event Signs Install Order Edit\" type:Feature Layer Collection owner:DublinOhio>,\n",
       " <Item title:\"Agreement Areas Edit\" type:Feature Layer Collection owner:DublinOhio>,\n",
       " <Item title:\"Annexation History Edit\" type:Feature Layer Collection owner:DublinOhio>,\n",
       " <Item title:\"Community Event Race Routes Equipment IndDay View\" type:Feature Layer Collection owner:DublinOhio>,\n",
       " <Item title:\"Railroads Edit\" type:Feature Layer Collection owner:DublinOhio>,\n",
       " <Item title:\"City Property Edit\" type:Feature Layer Collection owner:DublinOhio>,\n",
       " <Item title:\"Memorial Cones Edit\" type:Feature Layer Collection owner:DublinOhio>,\n",
       " <Item title:\"SanitaryLayersForOUPS_PreEdits\" type:Feature Layer Collection owner:DublinOhio>,\n",
       " <Item title:\"Subdivisions Attribute Editor\" type:Feature Layer Collection owner:DublinOhio>,\n",
       " <Item title:\"Parking Restrictions Edit\" type:Feature Layer Collection owner:DublinOhio>,\n",
       " <Item title:\"Woodlots Edit\" type:Feature Layer Collection owner:DublinOhio>,\n",
       " <Item title:\"EMA Event Line Edit\" type:Feature Layer Collection owner:DublinOhio>,\n",
       " <Item title:\"Water Pressure Districts Edit\" type:Feature Layer Collection owner:DublinOhio>,\n",
       " <Item title:\"Recreation Facilities Edit\" type:Feature Layer Collection owner:DublinOhio>,\n",
       " <Item title:\"Irrigation Points Edit\" type:Feature Layer Collection owner:DublinOhio>,\n",
       " <Item title:\"Memorial Barriers Edit\" type:Feature Layer Collection owner:DublinOhio>,\n",
       " <Item title:\"Event Signage Install\" type:Feature Layer Collection owner:DublinOhio>,\n",
       " <Item title:\"Schools Edit\" type:Feature Layer Collection owner:DublinOhio>,\n",
       " <Item title:\"School Attendance Areas Edit\" type:Feature Layer Collection owner:DublinOhio>,\n",
       " <Item title:\"2009 Aerial Grid Edit\" type:Feature Layer Collection owner:DublinOhio>,\n",
       " <Item title:\"Metro Occupancy Rates Edit\" type:Feature Layer Collection owner:DublinOhio>,\n",
       " <Item title:\"Gateways Edit\" type:Feature Layer Collection owner:DublinOhio>,\n",
       " <Item title:\"2011 Aerial Grid Edit\" type:Feature Layer Collection owner:DublinOhio>,\n",
       " <Item title:\"River Edit\" type:Feature Layer Collection owner:DublinOhio>,\n",
       " <Item title:\"Wetlands Edit\" type:Feature Layer Collection owner:DublinOhio>,\n",
       " <Item title:\"Electric Lines Edit\" type:Feature Layer Collection owner:DublinOhio>,\n",
       " <Item title:\"Sanitary Sewer Breaks Edit\" type:Feature Layer Collection owner:DublinOhio>,\n",
       " <Item title:\"Archeological Sites Edit\" type:Feature Layer Collection owner:DublinOhio>,\n",
       " <Item title:\"Playgrounds Edit\" type:Feature Layer Collection owner:DublinOhio>,\n",
       " <Item title:\"Memoria Tournament Pre-Event Signage\" type:Feature Layer Collection owner:DublinOhio>,\n",
       " <Item title:\"Street Lights Other Edit\" type:Feature Layer Collection owner:DublinOhio>,\n",
       " <Item title:\"Pavement Edit Attribute Only\" type:Feature Layer Collection owner:rjtaylor@dublin.oh.us_DublinOhio>,\n",
       " <Item title:\"Memorial Tournament Course Signage Edit\" type:Feature Layer Collection owner:DublinOhio>,\n",
       " <Item title:\"DORA Boundary - Edit\" type:Feature Layer Collection owner:DublinOhio>,\n",
       " <Item title:\"Electronic Signage Edit\" type:Feature Layer Collection owner:DublinOhio>,\n",
       " <Item title:\"Pavement Edit\" type:Feature Layer Collection owner:rjtaylor@dublin.oh.us_DublinOhio>,\n",
       " <Item title:\"Future Streets Edit\" type:Feature Layer Collection owner:DublinOhio>,\n",
       " <Item title:\"Sirens Edit\" type:Feature Layer Collection owner:DublinOhio>,\n",
       " <Item title:\"Dublin 3D Buildings\" type:Feature Layer Collection owner:DublinOhio>,\n",
       " <Item title:\"Parking Occupancy Data Edit\" type:Feature Layer Collection owner:DublinOhio>,\n",
       " <Item title:\"Middle School Attendance Areas\" type:Feature Layer Collection owner:DublinOhio>,\n",
       " <Item title:\"DEWS Edit\" type:Feature Layer Collection owner:DublinOhio>,\n",
       " <Item title:\"Traffic Signal Poles Edit\" type:Feature Layer Collection owner:DublinOhio>,\n",
       " <Item title:\"Culverts Edit\" type:Feature Layer Collection owner:DublinOhio>,\n",
       " <Item title:\"Zipcodes Edit\" type:Feature Layer Collection owner:DublinOhio>,\n",
       " <Item title:\"Entry Exit Counter Edit\" type:Feature Layer Collection owner:DublinOhio>,\n",
       " <Item title:\"Walls Edit\" type:Feature Layer Collection owner:DublinOhio>,\n",
       " <Item title:\"Capital Improvement Projects Edit\" type:Feature Layer Collection owner:DublinOhio>,\n",
       " <Item title:\"Traffic Signals Edit\" type:Feature Layer Collection owner:DublinOhio>,\n",
       " <Item title:\"Bridges Edit\" type:Feature Layer Collection owner:DublinOhio>,\n",
       " <Item title:\"Census Tracts 2010 Edit\" type:Feature Layer Collection owner:DublinOhio>,\n",
       " <Item title:\"Tree Canopy Detail Edit\" type:Feature Layer Collection owner:DublinOhio>,\n",
       " <Item title:\"Leaf Streets Edit\" type:Feature Layer Collection owner:DublinOhio>,\n",
       " <Item title:\"Edit Mule\" type:Feature Layer Collection owner:DublinOhio>]"
      ]
     },
     "execution_count": 13,
     "metadata": {},
     "output_type": "execute_result"
    }
   ],
   "source": [
    "# make a list of items to backup by the tag specified.\n",
    "\n",
    "items_to_backup = makeBkupList(backupTag = backup_tag)\n",
    "\n",
    "items_to_backup"
   ]
  },
  {
   "cell_type": "code",
   "execution_count": 14,
   "metadata": {},
   "outputs": [
    {
     "name": "stdout",
     "output_type": "stream",
     "text": [
      "All items to backup are unique\n"
     ]
    }
   ],
   "source": [
    "if len(items_to_backup) == len(set(items_to_backup)):\n",
    "    print(\"All items to backup are unique\")\n",
    "else:\n",
    "    print(\"CAUTION: There are some duplicate item names in the back-up list\")"
   ]
  },
  {
   "cell_type": "markdown",
   "metadata": {},
   "source": [
    "# Function to Create the Backups"
   ]
  },
  {
   "cell_type": "code",
   "execution_count": 15,
   "metadata": {},
   "outputs": [],
   "source": [
    "# Source framework, expanded upon.\n",
    "# \"Back up hosted content by looping through and downloading hosted feature services in FGDB format\"\n",
    "# https://support.esri.com/en/technical-article/000022524\n",
    "\n",
    "def backupItems(bkupList = items_to_backup, bkupFolder = backups_folder): # backups_folder defined at top of script\n",
    "    \n",
    "    ######\n",
    "    # INPUT: List of items to backup, and output destination\n",
    "    # PROCESS: \n",
    "    # - Creats backup file geodatabses (in the home folder)\n",
    "    # - moves them to backup folder\n",
    "    # OUTPUT: \n",
    "    # - returns list of output item IDs and messaging for processes\n",
    "    # - returns list of items that failed export or move\n",
    "    \n",
    "    ######\n",
    "    outputItemIDs = []\n",
    "    outputItemTitles = []\n",
    "    \n",
    "    item_export_result = [] # hold result of trying to export\n",
    "    items_move_result = [] # hold result of trying to move\n",
    "\n",
    "    \n",
    "    timestamp = strftime(\"%Y%m%dT%H%M%S\")\n",
    "    t = time.process_time()\n",
    "    \n",
    "    # for naming timestamp in ISO 8601 compliant \n",
    "    print(\"Timestamp is {}\\nExporting {} items to destination {}\\n\\n\".format(timestamp, len(bkupList), bkupFolder))\n",
    "    \n",
    "    \n",
    "    # for index, item, in the backup list.\n",
    "    for idx, item in enumerate(bkupList):\n",
    "        \n",
    "        # purge result variable name, otherwise if one fails it will report back the previous iteration's ID #\n",
    "        if 'result' in locals():\n",
    "            \n",
    "            del result \n",
    "        \n",
    "        try:\n",
    "    \n",
    "            dataitem = gis.content.get(item.id)\n",
    "            print(\"Processing item: \", item, \"ID: \", dataitem)\n",
    "            \n",
    "            outputItemTitles.append(item.title)\n",
    "            outputItemIDs.append(item.id)\n",
    "\n",
    "            try:\n",
    "                print(\"\\tExporting item\")\n",
    "                result = dataitem.export(item.title, \"File Geodatabase\", parameters = None)\n",
    "                print(\"\\tExporting item complete\")\n",
    "                \n",
    "                item_export_result.append(\"Success\")\n",
    "                \n",
    "            except Exception as error:\n",
    "                print(\"Failed Exporting Item\", error)\n",
    "                item_export_result.append(error) # add item to failed list\n",
    "                \n",
    "# may need to move this to a separate function. \n",
    "            try:\n",
    "                print(\"\\tMoving item to\", bkupFolder)\n",
    "                result.move(bkupFolder)\n",
    "                print(\"\\tMoving item complete\")\n",
    "                items_move_result.append(\"Success\")\n",
    "                \n",
    "            except Exception as error:\n",
    "                print(\"Failed to move item \", error)\n",
    "                items_move_result.append(error) # add item to failed list\n",
    "\n",
    "\n",
    "            print(\"\\tItem {} of total {} complete\".format((idx + 1), len(bkupList)))\n",
    "\n",
    "            print(\"\\tID of backup\", result.id)\n",
    "            print(\"\\n******\\n\")\n",
    "            \n",
    " \n",
    "        except Exception as error:\n",
    "            print(\"Failed somewhere. \", error)\n",
    "    \n",
    "    print(\"Export to GDBs complete. List of output item IDs available\\nID List: \", outputItemIDs)\n",
    "    \n",
    "    timestamp = strftime(\"%Y%m%dT%H%M%S\")\n",
    "    \n",
    "    print(\"Elapsed Minutes: \", ((time.process_time() - t)/60.0))\n",
    "\n",
    "    for item in outputItemIDs:\n",
    "        i = gis.content.get(item)\n",
    "        print(\"\\t\", i.title, \" ID --->\\t\", i.id)\n",
    "        \n",
    "    return outputItemTitles, outputItemIDs, item_export_result, items_move_result\n",
    "    "
   ]
  },
  {
   "cell_type": "markdown",
   "metadata": {},
   "source": [
    "# Run the Backups"
   ]
  },
  {
   "cell_type": "code",
   "execution_count": null,
   "metadata": {
    "scrolled": false
   },
   "outputs": [],
   "source": [
    "# testing with first 10 items, :10\n",
    "backups = backupItems(items_to_backup, backups_folder)"
   ]
  },
  {
   "cell_type": "code",
   "execution_count": null,
   "metadata": {},
   "outputs": [],
   "source": [
    "backups"
   ]
  },
  {
   "cell_type": "code",
   "execution_count": null,
   "metadata": {},
   "outputs": [],
   "source": [
    "np.transpose(backups)"
   ]
  },
  {
   "cell_type": "code",
   "execution_count": null,
   "metadata": {},
   "outputs": [],
   "source": [
    "results_df = pd.DataFrame(np.transpose(backups), columns = [\"title\", \"id\", \"export\", \"moved\"])\n",
    "results_df\n",
    "\n",
    "\n",
    "# add links\n",
    "results_df = results_df.assign(Link = lambda x: (\"https://dublinohio.maps.arcgis.com/home/item.html?id=\"+x['id'] ))\n",
    "\n",
    "\n",
    "results_df\n",
    "\n"
   ]
  },
  {
   "cell_type": "code",
   "execution_count": null,
   "metadata": {},
   "outputs": [],
   "source": [
    "n_rows = results_df.shape[0]\n",
    "\n",
    "n_success = sum(results_df[\"export\"]== \"Success\")\n",
    "\n",
    "n_failed = n_rows - n_success\n",
    "\n",
    "per_succes = (n_success *1.0 / n_rows)*100\n"
   ]
  },
  {
   "cell_type": "code",
   "execution_count": null,
   "metadata": {},
   "outputs": [],
   "source": [
    "per_succes"
   ]
  },
  {
   "cell_type": "markdown",
   "metadata": {},
   "source": [
    "### Format as HTML table for email \n",
    "\n",
    "get some stats first"
   ]
  },
  {
   "cell_type": "code",
   "execution_count": null,
   "metadata": {},
   "outputs": [],
   "source": [
    "[n_rows,n_success, n_failed, per_succes]"
   ]
  },
  {
   "cell_type": "code",
   "execution_count": null,
   "metadata": {},
   "outputs": [],
   "source": [
    "summ_df = pd.DataFrame([[n_rows,n_success, n_failed, per_succes]], columns = [\"Items\", \"Success\", \"Failed\", \"Percent Success\"])\n",
    "summ_df"
   ]
  },
  {
   "cell_type": "code",
   "execution_count": 108,
   "metadata": {
    "scrolled": true
   },
   "outputs": [
    {
     "name": "stdout",
     "output_type": "stream",
     "text": [
      "Total Items: 5|\n",
      "  \tSuccesses:\t 5| \n",
      "\tFailed:\t\t 0| \n",
      "\tPercent Success:\t 100.0|\n",
      "\n"
     ]
    }
   ],
   "source": [
    "message_ = (\"Total Items: {}|\\n  \\tSuccesses:\\t {}| \\n\\tFailed:\\t\\t {}| \\n\\tPercent Success:\\t {}|\\n\").format(n_rows, n_success, n_failed, per_succes)\n",
    "\n",
    "print(message_)"
   ]
  },
  {
   "cell_type": "code",
   "execution_count": null,
   "metadata": {},
   "outputs": [],
   "source": [
    "message_ = summ_df.to_html()"
   ]
  },
  {
   "cell_type": "code",
   "execution_count": null,
   "metadata": {},
   "outputs": [],
   "source": [
    "message_ += results_df.to_html(\n",
    "    render_links=True,\n",
    "    escape=True,\n",
    ")\n",
    "#message_"
   ]
  },
  {
   "cell_type": "code",
   "execution_count": null,
   "metadata": {},
   "outputs": [],
   "source": [
    "message_"
   ]
  },
  {
   "cell_type": "code",
   "execution_count": null,
   "metadata": {},
   "outputs": [],
   "source": [
    "strftime(\"%m-%d-%Y  %H:%M\")"
   ]
  },
  {
   "cell_type": "code",
   "execution_count": null,
   "metadata": {},
   "outputs": [],
   "source": [
    "# Send email\n",
    "\n",
    "email_subject = \"Backup Results\"\n",
    "\n",
    "email_message = message_\n",
    "\n",
    "timestamp = strftime(\"%m-%d-%Y  %H:%M\")\n",
    "\n",
    "# call the function\n",
    "email_GIS_staff(GIS_staff_group_id, \n",
    "                subject_= email_subject + \" \" + strftime(\"%m-%d-%Y  %H:%M\"), \n",
    "                message_ = email_message)"
   ]
  },
  {
   "cell_type": "markdown",
   "metadata": {},
   "source": [
    "# Function to Clean up content \n",
    "\n",
    "## Find the new content we just created\n",
    "\n",
    "The backup function returns a list of backup item IDs if defined \n",
    "i.e. `backups = backupItems(bkupList,  bkupFolder = \"GIS Layers Backups\")`"
   ]
  },
  {
   "cell_type": "markdown",
   "metadata": {},
   "source": [
    "### Remove tag used to flag for backups\n",
    "\n",
    "Function to remove clutter tags such as the Backup Notice tag so it will not appear in future searches for this.\n",
    "\n",
    "i.e. `removeBkupTag(['Test', 'IncludeInBackups', 'HFLBackupIncludeYes'])` returns \n",
    "```\n",
    "Original Tags\n",
    "\t ['Test', 'IncludeInBackups', 'HFLBackupIncludeYes'] \n",
    "\tNew Tags\n",
    "\t ['Test', 'IncludeInBackups']\n",
    "```"
   ]
  },
  {
   "cell_type": "code",
   "execution_count": null,
   "metadata": {},
   "outputs": [],
   "source": []
  },
  {
   "cell_type": "code",
   "execution_count": null,
   "metadata": {},
   "outputs": [],
   "source": [
    "def removeBkupTag(TagList, removeTags = [backup_tag]):\n",
    "    # Defined a default tag i.e. HFLBackupIncludeYes but this can be any list of tags.\n",
    "    \n",
    "    tagsClean = [n for n in TagList if n not in removeTags]\n",
    "    \n",
    "    print(\"Original Tags\\n\\t\", TagList, \"\\n\\tNew Tags\\n\\t\", tagsClean)\n",
    "    \n",
    "    return tagsClean"
   ]
  },
  {
   "cell_type": "code",
   "execution_count": null,
   "metadata": {},
   "outputs": [],
   "source": [
    "def updateTags(itemID):\n",
    "    # Takes in item ID then updates and removes backup tags\n",
    "    \n",
    "    item = gis.content.get(itemID)\n",
    "    print(\"Updating tags on item:\", item)\n",
    "    \n",
    "    # Call the remove backup tag function \n",
    "    newTags = removeBkupTag(item.tags)\n",
    "    \n",
    "    # Add a new tag, \"BackedupFGDB\"\n",
    "    newTags.append(\"ExistingBackupFGDB\")\n",
    "    \n",
    "    # Update the tags with the clean list. \n",
    "    item.update(item_properties={'tags':newTags})\n",
    "    \n",
    "    print(\"\\tConfirmed: tags after update:\\n\\t\", item.tags)"
   ]
  },
  {
   "cell_type": "code",
   "execution_count": null,
   "metadata": {},
   "outputs": [],
   "source": [
    "def removeBackupTagsFromBackups(backupResults):\n",
    "    for item in backupResults:\n",
    "        updateTags(item)"
   ]
  },
  {
   "cell_type": "code",
   "execution_count": null,
   "metadata": {},
   "outputs": [],
   "source": [
    "# maybe do this inside the backup process rather than after?  remove the tag right then and there?\n",
    "\n",
    "def removeBkupTagList(backupTag = backup_tag):\n",
    "    print(\"Searching for content with tag: \", backupTag)\n",
    "    bkupContentList = gis.content.search(query=\"tags:\"+ backupTag, \n",
    "                                item_type=\"File Geodatabase\",  \n",
    "                                max_items=2000)\n",
    "    print(\"Query Results to Backup:\\n\", bkupContentList)\n",
    "    \n",
    "    backupitemIDs = []\n",
    "    \n",
    "    for i in bkupContentList:\n",
    "        backupitemIDs.append(i.id)\n",
    "        \n",
    "    # get item ids\n",
    "    return backupitemIDs"
   ]
  },
  {
   "cell_type": "code",
   "execution_count": null,
   "metadata": {},
   "outputs": [],
   "source": [
    "removelist = removeBkupTagList(backupTag = backup_tag)"
   ]
  },
  {
   "cell_type": "code",
   "execution_count": null,
   "metadata": {},
   "outputs": [],
   "source": [
    "removeBackupTagsFromBackups(removelist)"
   ]
  },
  {
   "cell_type": "markdown",
   "metadata": {},
   "source": [
    "# General Reference\n",
    "\n",
    "###  Properties of an item, found ownerFolder from here\n",
    "\n",
    "```#from pprint import pprint\n",
    "#pprint(vars(mycontent[2]))```\n",
    "\n",
    "```{'_depend': <Dependencies for ff35d0b42fd841188c5b564909686eb0>,\n",
    " '_gis': GIS @ https://www.arcgis.com version:9.3,\n",
    " '_hydrated': False,\n",
    " '_portal': <arcgis.gis._impl._portalpy.Portal object at 0x7fbe182e8cd0>,\n",
    " '_workdir': '/tmp',\n",
    " 'access': 'private',\n",
    " 'accessInformation': 'City of Dublin, Ohio, USA',\n",
    " 'advancedSettings': None,\n",
    " 'appCategories': [],\n",
    " 'avgRating': 0,\n",
    " 'banner': None,\n",
    " 'categories': [],\n",
    " 'created': 1633824388000,\n",
    " 'culture': 'en-us',\n",
    " 'description': 'Trees planted and maintained by the City in the right-of-way '\n",
    "                'of Dublin OH, USA. These trees are typically found between '\n",
    "                'the sidewalk and the street in the &quot;tree lawn&quot;.',\n",
    " 'documentation': None,\n",
    " 'extent': [[-83.20229096510711, 40.065185068482265],\n",
    "            [-83.08937282431096, 40.16284924299875]],\n",
    " 'groupDesignations': None,\n",
    " 'guid': None,\n",
    " 'id': 'ff35d0b42fd841188c5b564909686eb0',\n",
    " 'industries': [],\n",
    " 'isOrgItem': True,\n",
    " 'itemid': 'ff35d0b42fd841188c5b564909686eb0',\n",
    " 'languages': [],\n",
    " 'largeThumbnail': None,\n",
    " 'licenseInfo': None,\n",
    " 'listed': False,\n",
    " 'modified': 1633824455000,\n",
    " 'name': 'Street_Trees_Edit_AsOf_20211010T000014.zip',\n",
    " 'numComments': 0,\n",
    " 'numRatings': 0,\n",
    " 'numViews': 0,\n",
    " 'owner': 'DublinOhio',\n",
    " 'ownerFolder': 'f74cc94ec1dc4ac8b8a16742c799b4fb',\n",
    " 'properties': None,\n",
    " 'protected': False,\n",
    " 'proxyFilter': None,\n",
    " 'scoreCompleteness': 61,\n",
    " 'screenshots': [],\n",
    " 'snippet': 'Trees planted and maintained in the right-of-way of Dublin OH, '\n",
    "            'USA',\n",
    " 'spatialReference': '102723',\n",
    " 'subInfo': 0,\n",
    " 'tags': ['Arboriculture', 'Trees', 'Urban Forestry'],\n",
    " 'thumbnail': None,\n",
    " 'title': 'Street_Trees_Edit_AsOf_20211010T000014',\n",
    " 'type': 'File Geodatabase',\n",
    " 'typeKeywords': ['File Geodatabase'],\n",
    " 'url': None}```"
   ]
  }
 ],
 "metadata": {
  "esriNotebookRuntime": {
   "notebookRuntimeName": "ArcGIS Notebook Python 3 Standard",
   "notebookRuntimeVersion": "5.0"
  },
  "kernelspec": {
   "display_name": "Python 3 (ipykernel)",
   "language": "python",
   "name": "python3"
  },
  "language_info": {
   "codemirror_mode": {
    "name": "ipython",
    "version": 3
   },
   "file_extension": ".py",
   "mimetype": "text/x-python",
   "name": "python",
   "nbconvert_exporter": "python",
   "pygments_lexer": "ipython3",
   "version": "3.9.18"
  }
 },
 "nbformat": 4,
 "nbformat_minor": 2
}
