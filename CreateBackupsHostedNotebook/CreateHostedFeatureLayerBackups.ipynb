{
 "cells": [
  {
   "cell_type": "markdown",
   "metadata": {},
   "source": [
    "# Backup HFLs to AGO\n",
    "\n",
    "Create static snapshots of HFLs for archiving and backup purposes in AGO\n",
    "\n",
    "### References:\n",
    "\n",
    "https://developers.arcgis.com/rest/users-groups-and-items/export-item.htm\n",
    "\n",
    "[How To: Back up hosted content by looping through and downloading hosted feature services in FGDB format](https://support.esri.com/en/technical-article/000022524)\n",
    "\n",
    "[How To: Back up content in ArcGIS Online](https://support.esri.com/en/technical-article/000011795)\n",
    "\n",
    "[How To: Download feature service items from ArcGIS Online using ArcGIS API for Python](https://support.esri.com/en/technical-article/000018909)\n",
    "\n",
    "Searching content https://developers.arcgis.com/python/guide/accessing-and-creating-content/"
   ]
  },
  {
   "cell_type": "markdown",
   "metadata": {},
   "source": [
    "### Imports"
   ]
  },
  {
   "cell_type": "code",
   "execution_count": null,
   "metadata": {},
   "outputs": [],
   "source": [
    "import os\n",
    "import uuid\n",
    "import json\n",
    "import shutil\n",
    "import tempfile\n",
    "from time import strftime\n",
    "\n",
    "\n",
    "##import pandas as pd\n",
    "\n",
    "from arcgis.gis import GIS\n",
    "from arcgis import __version__"
   ]
  },
  {
   "cell_type": "markdown",
   "metadata": {},
   "source": [
    "#### initialize GIS"
   ]
  },
  {
   "cell_type": "code",
   "execution_count": null,
   "metadata": {
    "scrolled": false
   },
   "outputs": [],
   "source": [
    "gis = GIS(\"home\")"
   ]
  },
  {
   "cell_type": "markdown",
   "metadata": {},
   "source": [
    "# Delete current contents of backup folder.\n",
    "\n",
    "## First, search for all file geodatabases\n",
    "\n",
    "## Then, find those that are in the ownerFolder for my GIS backups, delete those.\n"
   ]
  },
  {
   "cell_type": "code",
   "execution_count": null,
   "metadata": {},
   "outputs": [],
   "source": [
    "allmyfgdbs = gis.content.search(\"owner:DublinOhio\", max_items = 2000, item_type = \"File Geodatabase\")\n",
    "\n",
    "backupfgdbs = []\n",
    "\n",
    "for item in allmyfgdbs:\n",
    "    \n",
    "    # folder id for GIS Layers Backups \n",
    "    if item.ownerFolder == \"f74cc94ec1dc4ac8b8a16742c799b4fb\":\n",
    "        backupfgdbs.append(item)"
   ]
  },
  {
   "cell_type": "code",
   "execution_count": null,
   "metadata": {},
   "outputs": [],
   "source": [
    "#API doc ref: https://developers.arcgis.com/python/api-reference/arcgis.gis.toc.html?highlight=delete#arcgis.gis.ContentManager.delete_items \n",
    "gis.content.delete_items(items = backupfgdbs)"
   ]
  },
  {
   "cell_type": "markdown",
   "metadata": {},
   "source": [
    "Properties of an item, found ownerFolder from here\n",
    "\n",
    "```#from pprint import pprint\n",
    "#pprint(vars(mycontent[2]))```\n",
    "\n",
    "```{'_depend': <Dependencies for ff35d0b42fd841188c5b564909686eb0>,\n",
    " '_gis': GIS @ https://www.arcgis.com version:9.3,\n",
    " '_hydrated': False,\n",
    " '_portal': <arcgis.gis._impl._portalpy.Portal object at 0x7fbe182e8cd0>,\n",
    " '_workdir': '/tmp',\n",
    " 'access': 'private',\n",
    " 'accessInformation': 'City of Dublin, Ohio, USA',\n",
    " 'advancedSettings': None,\n",
    " 'appCategories': [],\n",
    " 'avgRating': 0,\n",
    " 'banner': None,\n",
    " 'categories': [],\n",
    " 'created': 1633824388000,\n",
    " 'culture': 'en-us',\n",
    " 'description': 'Trees planted and maintained by the City in the right-of-way '\n",
    "                'of Dublin OH, USA. These trees are typically found between '\n",
    "                'the sidewalk and the street in the &quot;tree lawn&quot;.',\n",
    " 'documentation': None,\n",
    " 'extent': [[-83.20229096510711, 40.065185068482265],\n",
    "            [-83.08937282431096, 40.16284924299875]],\n",
    " 'groupDesignations': None,\n",
    " 'guid': None,\n",
    " 'id': 'ff35d0b42fd841188c5b564909686eb0',\n",
    " 'industries': [],\n",
    " 'isOrgItem': True,\n",
    " 'itemid': 'ff35d0b42fd841188c5b564909686eb0',\n",
    " 'languages': [],\n",
    " 'largeThumbnail': None,\n",
    " 'licenseInfo': None,\n",
    " 'listed': False,\n",
    " 'modified': 1633824455000,\n",
    " 'name': 'Street_Trees_Edit_AsOf_20211010T000014.zip',\n",
    " 'numComments': 0,\n",
    " 'numRatings': 0,\n",
    " 'numViews': 0,\n",
    " 'owner': 'DublinOhio',\n",
    " 'ownerFolder': 'f74cc94ec1dc4ac8b8a16742c799b4fb',\n",
    " 'properties': None,\n",
    " 'protected': False,\n",
    " 'proxyFilter': None,\n",
    " 'scoreCompleteness': 61,\n",
    " 'screenshots': [],\n",
    " 'snippet': 'Trees planted and maintained in the right-of-way of Dublin OH, '\n",
    "            'USA',\n",
    " 'spatialReference': '102723',\n",
    " 'subInfo': 0,\n",
    " 'tags': ['Arboriculture', 'Trees', 'Urban Forestry'],\n",
    " 'thumbnail': None,\n",
    " 'title': 'Street_Trees_Edit_AsOf_20211010T000014',\n",
    " 'type': 'File Geodatabase',\n",
    " 'typeKeywords': ['File Geodatabase'],\n",
    " 'url': None}```"
   ]
  },
  {
   "cell_type": "markdown",
   "metadata": {},
   "source": [
    "# Create list of content to backup\n",
    "## Important! Filter input\n",
    "####  `\"tags:HFLBackupIncludeYes\"` A specific tag for filter \n",
    "#### `item_type=\"Feature Layer\"` , Only get Feature Layer types\n",
    "\n",
    "otherwise the created GDBs may be included and backup content that does not need to be."
   ]
  },
  {
   "cell_type": "code",
   "execution_count": null,
   "metadata": {},
   "outputs": [],
   "source": [
    "def makeBkupList(backupTag = \"HFLBackupIncludeYes\"):\n",
    "    print(\"Searching for content with tag: \", backupTag)\n",
    "    bkupContentList = gis.content.search(query=\"tags:\"+ backupTag, \n",
    "                                item_type=\"Feature *\",  #Feature Service, Feature Layer, Feature Collection\n",
    "                                max_items=2000)\n",
    "    print(\"Query Results to Backup:\\n\", bkupContentList)\n",
    "    return bkupContentList"
   ]
  },
  {
   "cell_type": "markdown",
   "metadata": {},
   "source": [
    "# Function to Create the Backups"
   ]
  },
  {
   "cell_type": "code",
   "execution_count": null,
   "metadata": {},
   "outputs": [],
   "source": [
    "#https://support.esri.com/en/technical-article/000022524\n",
    "\n",
    "def backupItems(bkupList, bkupFolder = \"GIS Layers Backups\"):\n",
    "    ######\n",
    "    # INPUT: List of items to backup, and output destination\n",
    "    # OUTPUT: returns list of output item IDs and messaging for processes\n",
    "    \n",
    "    ######\n",
    "    timestamp = strftime(\"%Y%m%dT%H%M%S\")\n",
    "    # for naming timestamp in ISO 8601 compliant \n",
    "\n",
    "    print(\"Timestamp is {}\\nExporting {} items to destination {}\\n\\n\".format(timestamp, len(bkupList), bkupFolder))\n",
    "    \n",
    "    outputItemIDs = []\n",
    "    outputItmeNames = []\n",
    "    \n",
    "    for idx, item in enumerate(bkupList):\n",
    "        \n",
    "        try:\n",
    "    \n",
    "            dataitem = gis.content.get(item.id)\n",
    "            print(\"Processing item: \", item, \"ID: \", dataitem)\n",
    "\n",
    "            \n",
    "            try:\n",
    "                print(\"\\tExporting item\")\n",
    "                result = dataitem.export(item.title, \"File Geodatabase\", parameters = None)\n",
    "                print(\"\\tExporting item complete\")\n",
    "            except:\n",
    "                print(\"Failed Exporting Item\")\n",
    "\n",
    "            try:\n",
    "                \n",
    "                print(\"\\tMoving item to\", bkupFolder)\n",
    "                result.move(bkupFolder, owner = \"DublinOhio\")\n",
    "                print(\"\\tMoving item complete\")\n",
    "            except:\n",
    "                print(\"Failed to move item\")\n",
    "                \n",
    "\n",
    "            print(\"\\tItem {} of total {} complete\".format((idx + 1), len(bkupList)))\n",
    "\n",
    "            print(\"\\tID of backup\", result.id)\n",
    "            print(\"\\n******\\n\")\n",
    "            outputItemIDs.append(result.id)\n",
    "        \n",
    "        except:\n",
    "            print(\"Failed somewhere\")\n",
    "    \n",
    "    print(\"Export to GDBs complete. List of output item IDs available\\nID List: \", outputItemIDs)\n",
    "    \n",
    "    for item in outputItemIDs:\n",
    "        i = gis.content.get(item)\n",
    "        print(\"\\t\", i.title, \" ID --->\\t\", i.id)\n",
    "    return outputItemIDs\n",
    "    "
   ]
  },
  {
   "cell_type": "markdown",
   "metadata": {},
   "source": [
    "# Function to Clean up content \n",
    "\n",
    "## Find the new content we just created\n",
    "\n",
    "The backup function returns a list of backup item IDs if defined \n",
    "i.e. `backups = backupItems(bkupList,  bkupFolder = \"GIS Layers Backups\")`"
   ]
  },
  {
   "cell_type": "markdown",
   "metadata": {},
   "source": [
    "### Remove tag used to flag for backups\n",
    "\n",
    "Function to remove clutter tags such as the Backup Notice tag so it will not appear in future searches for this.\n",
    "\n",
    "i.e. `removeBkupTag(['Test', 'IncludeInBackups', 'HFLBackupIncludeYes'])` returns \n",
    "```\n",
    "Original Tags\n",
    "\t ['Test', 'IncludeInBackups', 'HFLBackupIncludeYes'] \n",
    "\tNew Tags\n",
    "\t ['Test', 'IncludeInBackups']\n",
    "```"
   ]
  },
  {
   "cell_type": "code",
   "execution_count": null,
   "metadata": {},
   "outputs": [],
   "source": [
    "def removeBkupTag(TagList, removeTags = [\"HFLBackupIncludeYes\"]):\n",
    "    # Defined a default tag HFLBackupIncludeYes but this can be any list of tags.\n",
    "\n",
    "    \n",
    "    tagsClean = [n for n in TagList if n not in removeTags]\n",
    "    \n",
    "    print(\"Original Tags\\n\\t\", TagList, \"\\n\\tNew Tags\\n\\t\", tagsClean)\n",
    "    \n",
    "    return tagsClean"
   ]
  },
  {
   "cell_type": "code",
   "execution_count": null,
   "metadata": {},
   "outputs": [],
   "source": [
    "def updateTags(itemID):\n",
    "    # Takes in item ID then updates and removes backup tags\n",
    "    \n",
    "    item = gis.content.get(itemID)\n",
    "    print(\"Updating tags on item:\", item)\n",
    "    \n",
    "    # Call the remove backup tag function \n",
    "    newTags = removeBkupTag(item.tags)\n",
    "    \n",
    "    # Update the tags with the clean list. \n",
    "    item.update(item_properties={'tags':newTags})\n",
    "    \n",
    "    print(\"\\tConfirmed: tags after update:\\n\\t\", item.tags)"
   ]
  },
  {
   "cell_type": "code",
   "execution_count": null,
   "metadata": {},
   "outputs": [],
   "source": [
    "def removeBackupTagsFromBackups(backupResults):\n",
    "    for item in backupResults:\n",
    "        updateTags(item)"
   ]
  },
  {
   "cell_type": "markdown",
   "metadata": {},
   "source": [
    "# Run the Backups"
   ]
  },
  {
   "cell_type": "code",
   "execution_count": null,
   "metadata": {},
   "outputs": [],
   "source": [
    "bkupList = makeBkupList(backupTag = \"HFLBackupIncludeYes\")\n",
    "\n",
    "\n",
    "bkupList"
   ]
  },
  {
   "cell_type": "code",
   "execution_count": null,
   "metadata": {},
   "outputs": [],
   "source": [
    "backups = backupItems(bkupList,  bkupFolder = \"GIS Layers Backups\")"
   ]
  },
  {
   "cell_type": "code",
   "execution_count": null,
   "metadata": {},
   "outputs": [],
   "source": [
    "def removeBkupTagList(backupTag = \"HFLBackupIncludeYes\"):\n",
    "    print(\"Searching for content with tag: \", backupTag)\n",
    "    bkupContentList = gis.content.search(query=\"tags:\"+ backupTag, \n",
    "                                item_type=\"File Geodatabase\",  \n",
    "                                max_items=2000)\n",
    "    print(\"Query Results to Backup:\\n\", bkupContentList)\n",
    "    \n",
    "    backupitemIDs = []\n",
    "    \n",
    "    for i in bkupContentList:\n",
    "        backupitemIDs.append(i.id)\n",
    "        \n",
    "    # get item ids\n",
    "    return backupitemIDs"
   ]
  },
  {
   "cell_type": "code",
   "execution_count": null,
   "metadata": {},
   "outputs": [],
   "source": [
    "removelist = removeBkupTagList(backupTag = \"HFLBackupIncludeYes\")"
   ]
  },
  {
   "cell_type": "code",
   "execution_count": null,
   "metadata": {},
   "outputs": [],
   "source": [
    "removeBackupTagsFromBackups(removelist)"
   ]
  }
 ],
 "metadata": {
  "esriNotebookRuntime": {
   "notebookRuntimeName": "ArcGIS Notebook Python 3 Standard",
   "notebookRuntimeVersion": "5.0"
  },
  "kernelspec": {
   "display_name": "Python 3",
   "language": "python",
   "name": "python3"
  },
  "language_info": {
   "codemirror_mode": {
    "name": "ipython",
    "version": 3
   },
   "file_extension": ".py",
   "mimetype": "text/x-python",
   "name": "python",
   "nbconvert_exporter": "python",
   "pygments_lexer": "ipython3",
   "version": "3.7.9"
  }
 },
 "nbformat": 4,
 "nbformat_minor": 2
}
