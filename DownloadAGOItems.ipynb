{
 "cells": [
  {
   "cell_type": "markdown",
   "metadata": {},
   "source": [
    "# Purpose"
   ]
  },
  {
   "cell_type": "code",
   "execution_count": null,
   "metadata": {},
   "outputs": [],
   "source": []
  },
  {
   "cell_type": "markdown",
   "metadata": {},
   "source": [
    "# Import Libraries"
   ]
  },
  {
   "cell_type": "code",
   "execution_count": 2,
   "metadata": {},
   "outputs": [],
   "source": [
    "from arcgis.gis import GIS\n",
    "\n",
    "from dotenv import load_dotenv\n",
    "\n",
    "import os"
   ]
  },
  {
   "cell_type": "markdown",
   "metadata": {},
   "source": [
    "## Initialize Envs & Authenticate\n",
    "\n",
    "This gathers varaibles from a file named `.env` in the root directory. This environment file is ignored from Git using `.gitignore` file.  \n",
    "After downloading this file from GitHub you will need to create a file named `.env` in the root directory.  \n",
    "This file holds variables that are called by the script but protects them from being published to GitHub. A template is provided that needs to be renamed and your credentials entered.\n",
    "Keep the quotation marks and update for your credentials.\n",
    "```\n",
    "GIS_USER=\"YourUserName\"\n",
    "GIS_PASSWORD=\"YourPasswordHere\"\n",
    "``` "
   ]
  },
  {
   "cell_type": "code",
   "execution_count": 3,
   "metadata": {},
   "outputs": [
    {
     "data": {
      "text/plain": [
       "True"
      ]
     },
     "execution_count": 3,
     "metadata": {},
     "output_type": "execute_result"
    }
   ],
   "source": [
    "load_dotenv()"
   ]
  },
  {
   "cell_type": "code",
   "execution_count": 4,
   "metadata": {},
   "outputs": [],
   "source": [
    "# Authenticate with GIS portal. Default is ArcGIS Online but can be your own Enterprise deployment.\n",
    "gis = GIS(username = os.environ.get(\"GIS_USER\"),\n",
    "          password = os.environ.get(\"GIS_PASSWORD\")\n",
    "         )"
   ]
  },
  {
   "cell_type": "code",
   "execution_count": 5,
   "metadata": {},
   "outputs": [
    {
     "name": "stdout",
     "output_type": "stream",
     "text": [
      "Logged in as DublinOhio\n"
     ]
    }
   ],
   "source": [
    "print(\"Logged in as \" + str(gis.properties.user.username))"
   ]
  },
  {
   "cell_type": "markdown",
   "metadata": {},
   "source": [
    "# Download File Geodatabase (FGDB) Backups"
   ]
  },
  {
   "cell_type": "markdown",
   "metadata": {},
   "source": [
    "FGDBs are created from another backup process using hosted notebook. These are exports of Hosted Feature Layers sent to an Archive Folder.\n",
    "\n",
    "The current script will download these file geodatabses\n",
    "\n",
    "Specify Folder\n",
    "\n",
    "Reference:\n",
    "https://support.esri.com/en/technical-article/000018909\n",
    "\n",
    "https://developers.arcgis.com/python/api-reference/arcgis.gis.toc.html#arcgis.gis.Item.download \n",
    "\n",
    "https://gis.stackexchange.com/questions/306803/how-to-search-the-folders-items-in-arcgis-on-line-using-the-arcgis-api-for-pyth\n",
    "\n",
    "how to get list of user's folders:\n",
    "https://developers.arcgis.com/python/api-reference/arcgis.gis.toc.html?highlight=folders#arcgis.gis.User.folders\n",
    "\n",
    "Retrieve a list of ueres's folders. Each list item is a dictionary with properties that can be called:  \n",
    "`username` (owner of the folder), `id`, `title`, `created` \n",
    "https://developers.arcgis.com/python/api-reference/arcgis.gis.toc.html#arcgis.gis.User.items\n",
    "\n",
    "There is a param \"folder=\" to get items in a folder.\n"
   ]
  },
  {
   "cell_type": "code",
   "execution_count": 6,
   "metadata": {},
   "outputs": [
    {
     "name": "stdout",
     "output_type": "stream",
     "text": [
      "Origin folder to retrieve data:\n",
      "\t GIS Layers Backups\n"
     ]
    }
   ],
   "source": [
    "# Name of source Folder on AGO / Portal to Download\n",
    "originFolder = os.environ.get(\"ORIGIN_FOLDER\")\n",
    "print(\"Origin folder to retrieve data:\\n\\t\", originFolder)"
   ]
  },
  {
   "cell_type": "code",
   "execution_count": 7,
   "metadata": {},
   "outputs": [
    {
     "name": "stdout",
     "output_type": "stream",
     "text": [
      "Destination local folder to save data:\n",
      "\t C:\\TempDataExport\n"
     ]
    }
   ],
   "source": [
    "# Name of destination Local Folder\n",
    "destFolder = os.environ.get(\"DEST_FOLDER\")\n",
    "print(\"Destination local folder to save data:\\n\\t\", destFolder)"
   ]
  },
  {
   "cell_type": "markdown",
   "metadata": {},
   "source": [
    "### Get list of items from the origin folder\n",
    "Returns list of items in specified folder. Each is an instance of the item class with full methods available. \n",
    "https://developers.arcgis.com/python/api-reference/arcgis.gis.toc.html#item"
   ]
  },
  {
   "cell_type": "code",
   "execution_count": 56,
   "metadata": {},
   "outputs": [
    {
     "data": {
      "text/plain": [
       "[<Item title:\"AED_TestLayer_AsOf_20210725T000034\" type:File Geodatabase owner:DublinOhio>,\n",
       " <Item title:\"Street_Trees_Edit_AsOf_20210725T000034\" type:File Geodatabase owner:DublinOhio>,\n",
       " <Item title:\"Bridges_Edit_AsOf_20210725T000034\" type:File Geodatabase owner:DublinOhio>]"
      ]
     },
     "execution_count": 56,
     "metadata": {},
     "output_type": "execute_result"
    }
   ],
   "source": [
    "# Get list of items from the origin folder\n",
    "itemsInFolder =gis.users.me.items(folder=originFolder)\n",
    "itemsInFolder"
   ]
  },
  {
   "cell_type": "code",
   "execution_count": 57,
   "metadata": {},
   "outputs": [],
   "source": [
    "for item in itemsInFolder:\n",
    "    item.download(save_path = destFolder)"
   ]
  },
  {
   "cell_type": "code",
   "execution_count": 64,
   "metadata": {},
   "outputs": [
    {
     "name": "stdout",
     "output_type": "stream",
     "text": [
      "Items now in Destination Folder: 3\n",
      " Items:\n",
      "\n",
      "AEDTestLayerAsOf20210725T000034.zip\n",
      "BridgesEditAsOf20210725T000034.zip\n",
      "StreetTreesEditAsOf20210725T000034.zip\n"
     ]
    }
   ],
   "source": [
    "print(\"Items now in Destination Folder: {}\\n Items:\\n\".format(len(os.listdir(destFolder))))\n",
    "for item in os.listdir(destFolder):\n",
    "    print(item)"
   ]
  }
 ],
 "metadata": {
  "kernelspec": {
   "display_name": "Python 3",
   "language": "python",
   "name": "python3"
  },
  "language_info": {
   "codemirror_mode": {
    "name": "ipython",
    "version": 3
   },
   "file_extension": ".py",
   "mimetype": "text/x-python",
   "name": "python",
   "nbconvert_exporter": "python",
   "pygments_lexer": "ipython3",
   "version": "3.8.5"
  }
 },
 "nbformat": 4,
 "nbformat_minor": 4
}
